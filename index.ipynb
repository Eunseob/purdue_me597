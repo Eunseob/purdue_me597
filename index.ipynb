{
 "cells": [
  {
   "cell_type": "markdown",
   "metadata": {
    "colab_type": "text",
    "id": "view-in-github"
   },
   "source": [
    "<a href=\"https://colab.research.google.com/github/Eunseob/purdue_me597/blob/main/index.ipynb\" target=\"_parent\"><img src=\"https://colab.research.google.com/assets/colab-badge.svg\" alt=\"Open In Colab\"/></a>"
   ]
  },
  {
   "attachments": {},
   "cell_type": "markdown",
   "metadata": {},
   "source": [
    "<table><tr>\n",
    "    <td  style=\"background-color:#ffffff;text-align:left;\"><a href=\"http://www.purdue.edu\" target=\"_blank\"><img src=\"https://github.com/Eunseob/purdue_me597/blob/main/lab/img/ME_Logo_Transparent.webp?raw=1\" width=\"30%\" align=\"left\"></a></td>\n",
    "    <td style=\"background-color:#ffffff;\">&nbsp;</td>\n",
    "    <td style=\"background-color:#ffffff;vertical-align:text-middle;text-align:right;\">\n",
    "        <table><tr style=\"background-color:white;\">\n",
    "            <td><h1 style=\"font-size:10vw\">IIoT Implementation for Smart Manufacturing</h1></td>\n",
    "            <td>\n",
    "        </tr></table>\n",
    "    </td>     \n",
    "</tr></table>"
   ]
  },
  {
   "cell_type": "markdown",
   "metadata": {},
   "source": [
    "## Overview of the course\n",
    "\n",
    "\n",
    "Through lab sessions, you will perform a series of hands-on activities, and mainly learn tangible practical skills \n",
    "for implementation of IIoT (Industrial Internet of Things) The lab sessions will be broken down into four main \n",
    "parts as followed.\n",
    "\n",
    "\n",
    "\n",
    "1. Data collection: IoT sensor connectivity, and communication\n",
    "\n",
    "  a. Sensors: temperature, humidity, and accelerometer\n",
    "\n",
    "  b. Other IoT devices: power meter (Modbus protocol), CNC machine controller (TCP/IP)\n",
    "  \n",
    "  c. Target machines: Vacuum pump system, and axial flow fan\n",
    "\n",
    "2. Middleware: MTConnect\n",
    "\n",
    "  a. Data agent: local data server\n",
    "\n",
    "  b. Data adapter: data pushing from sensor to agent\n",
    "\n",
    "3. Database\n",
    "\n",
    "  a. SQL database\n",
    "\n",
    "  b. Web-based dashboard (Grafana Interface)\n",
    "\n",
    "4. Machine Learning\n",
    "\n",
    "  a. Artificial Nueral Network\n",
    "\n",
    "  b. Classification and regression\n",
    "\n",
    "\n",
    "\n",
    "At the end of this semester, it is expected that for implementation of IoT solution you can be equipped with \n",
    "abilities as followed: 1) selecting and deploying appropriate IoT devices, 2) building up middleware for \n",
    "aggregating data, 3) constructing database, 4) developing a machine learning model, and 5) visualizing data."
   ]
  }
 ],
 "metadata": {
  "kernelspec": {
   "display_name": "Python 3",
   "language": "python",
   "name": "python3"
  },
  "language_info": {
   "name": "python",
   "version": "3.8.6 (tags/v3.8.6:db45529, Sep 23 2020, 15:52:53) [MSC v.1927 64 bit (AMD64)]"
  },
  "orig_nbformat": 4,
  "vscode": {
   "interpreter": {
    "hash": "9339fce0233e1335b5f03a564ca182ed26a6d51dd6adf31f07e9b8a5448f50b4"
   }
  }
 },
 "nbformat": 4,
 "nbformat_minor": 2
}
