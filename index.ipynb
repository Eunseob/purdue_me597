{
 "cells": [
  {
   "cell_type": "markdown",
   "metadata": {},
   "source": [
    "## Overview of the course\n",
    "\n",
    "\n",
    "Through lab sessions, you will perform a series of hands-on activities, and mainly learn tangible practical skills \n",
    "for implementation of IIoT (Industrial Internet of Things) The lab sessions will be broken down into four main \n",
    "parts as followed.\n",
    "\n",
    "\n",
    "\n",
    "1. Data collection: IoT sensor connectivity, and communication\n",
    "\n",
    "  a. Sensors: temperature, humidity, and accelerometer\n",
    "\n",
    "  b. Other IoT devices: power meter (Modbus protocol), CNC machine controller (TCP/IP)\n",
    "  \n",
    "  c. Target machines: Vacuum pump system, and axial flow fan\n",
    "\n",
    "2. Middleware: MTConnect\n",
    "\n",
    "  a. Data agent: local data server\n",
    "\n",
    "  b. Data adapter: data pushing from sensor to agent\n",
    "\n",
    "3. Database\n",
    "\n",
    "  a. SQL database\n",
    "\n",
    "  b. Web-based dashboard (Grafana Interface)\n",
    "\n",
    "4. Machine Learning\n",
    "\n",
    "  a. Artificial Nueral Network\n",
    "\n",
    "  b. Classification and regression\n",
    "\n",
    "\n",
    "\n",
    "At the end of this semester, it is expected that for implementation of IoT solution you can be equipped with \n",
    "abilities as followed: 1) selecting and deploying appropriate IoT devices, 2) building up middleware for \n",
    "aggregating data, 3) constructing database, 4) developing a machine learning model, and 5) visualizing data."
   ]
  }
 ],
 "metadata": {
  "language_info": {
   "name": "python"
  },
  "orig_nbformat": 4
 },
 "nbformat": 4,
 "nbformat_minor": 2
}
