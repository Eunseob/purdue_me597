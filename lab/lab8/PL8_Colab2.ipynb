{
  "nbformat": 4,
  "nbformat_minor": 0,
  "metadata": {
    "colab": {
      "name": "PL9_Colab2.ipynb",
      "provenance": []
    },
    "kernelspec": {
      "name": "python3",
      "display_name": "Python 3"
    },
    "language_info": {
      "name": "python"
    }
  },
  "cells": [
    {
      "cell_type": "markdown",
      "source": [
        "# Prelab 9.2 Classifying Air-tight Vacuum and Air-leak Vacuum Data using Autoencoders for Anomaly Detection"
      ],
      "metadata": {
        "id": "-FH9Mpmjhus6"
      }
    },
    {
      "cell_type": "markdown",
      "source": [
        "In this example, you will use an machine learning algorithm called autoencoder  to detect anomalies on a vacuum pump. An accelerometer was used to collect data in all three dimensions (x, y, z). This dataset contains 1,200 rows of one second, each with 1000 data points. From the total number of rows, 600 (seconds) rows are labeled from vacuuming and 600 (seconds) of air leakage. \n",
        "\n",
        "<img src=\"https://github.com/hewp84/tinyml/blob/main/img/slide1.png?raw=1\" width=\"531\" height=\"300\"/>\n",
        "\n",
        "Note: This is a labeled dataset, so you could phrase this as a supervised learning problem. The goal of this example is to illustrate anomaly detection concepts you can apply to larger datasets, where you do not have labels available (for example, if you had many thousands of normal rhythms, and only a small number of abnormal rhythms).\n",
        "\n",
        "How will you detect anomalies using an autoencoder? An autoencoder is trained to minimize reconstruction error. You will train an autoencoder on the normal vibrations only, then use it to reconstruct all the data. Our hypothesis is that the abnormal vibrations will have higher reconstruction error. You will then classify a vibration as an anomaly if the reconstruction error surpasses a fixed threshold.\n",
        "\n",
        "Note: This Colab is adapted from the tensorflow [Intro to Autoencoders](https://www.tensorflow.org/tutorials/generative/autoencoder) example."
      ],
      "metadata": {
        "id": "u-lNTD8Rh1gy"
      }
    },
    {
      "cell_type": "markdown",
      "source": [
        "##Working in the X-dimension"
      ],
      "metadata": {
        "id": "tXwhXz0kpH14"
      }
    },
    {
      "cell_type": "markdown",
      "source": [
        "### Import TensorFlow and other libraries"
      ],
      "metadata": {
        "id": "lrJp1tEudRxM"
      }
    },
    {
      "cell_type": "code",
      "execution_count": null,
      "metadata": {
        "id": "bLdFmztwiPLA"
      },
      "outputs": [],
      "source": [
        "import matplotlib.pyplot as plt\n",
        "import numpy as np\n",
        "import pandas as pd\n",
        "import tensorflow as tf\n",
        "import scipy.fftpack\n",
        "from tensorflow import keras\n",
        "\n",
        "from sklearn.metrics import accuracy_score, precision_score, recall_score, roc_curve, auc\n",
        "from sklearn.model_selection import train_test_split\n",
        "from tensorflow.keras import layers, losses\n",
        "from tensorflow.keras.models import Model"
      ]
    },
    {
      "cell_type": "markdown",
      "source": [
        "### Load Vacuum data"
      ],
      "metadata": {
        "id": "KW0tFz8PdV7n"
      }
    },
    {
      "cell_type": "markdown",
      "source": [
        "The dataset to be used was pulled from a csv filed saved in a github repository [Prelab9 vacuum data](https://github.com/hewp84/tinyml/blob/439f321e572a55cf0b4ee5f358f6820ff8f98cbf/datasets/Prelab9_data.csv)."
      ],
      "metadata": {
        "id": "GlnTKIt1dad2"
      }
    },
    {
      "cell_type": "code",
      "source": [
        "# Copying raw data from github dataset file\n",
        "url = 'https://raw.githubusercontent.com/hewp84/tinyml/main/datasets/Prelab9_data.csv'\n",
        "#df is the variable where the data is stored\n",
        "df = pd.read_csv(url)\n",
        "#Display the original content of the dataset\n",
        "df"
      ],
      "metadata": {
        "id": "smmAlMBQikEw"
      },
      "execution_count": null,
      "outputs": []
    },
    {
      "cell_type": "markdown",
      "source": [
        "###Data Transformation"
      ],
      "metadata": {
        "id": "LJJkixHLeJCo"
      }
    },
    {
      "cell_type": "markdown",
      "source": [
        "The strategy to build this model is to select, one by one, data from each dimension and assess which dimension helps the model classify with better accuracy and precision.\n",
        "\n",
        "Let's start with the X dimension:\n",
        "\n",
        "Assign the X dimension on the variable DIMENSION on the code below."
      ],
      "metadata": {
        "id": "q_620MmHeXLT"
      }
    },
    {
      "cell_type": "code",
      "source": [
        "# X-dimension: 'Xacc array [m/s2]'\n",
        "# Y-dimension: 'Yacc array [m/s2]'\n",
        "# Z-dimension: 'Zacc array [m/s2]'\n",
        "DIMENSION =  #Type the X-dimension column name to use data from this dimension to build a model    <-----------------------------------------------------------------------------\n",
        "\n",
        "#Exploding the values contained in selected column and converting the string values into float values\n",
        "df = pd.concat([df['Condition'],df[DIMENSION].str.split(' ', expand=True).astype(float)], axis=1)\n",
        "ds = df.copy()"
      ],
      "metadata": {
        "id": "nSZChUXwi620"
      },
      "execution_count": null,
      "outputs": []
    },
    {
      "cell_type": "markdown",
      "source": [
        "Now, we change the labels 'Vacuuming' and 'Air_leakage' into binary notation for the model usage."
      ],
      "metadata": {
        "id": "5np_lPtrf0I6"
      }
    },
    {
      "cell_type": "code",
      "source": [
        "#Converting the Classifier into binary values\n",
        "ds.loc[df['Condition'] == 'Vacuuming', 'Status'] = 1\n",
        "ds.loc[df['Condition'] == 'Air_leakage', 'Status'] = 0\n",
        "ds.drop('Condition', axis=1, inplace=True)\n",
        "#Displays the dataset\n",
        "ds"
      ],
      "metadata": {
        "colab": {
          "base_uri": "https://localhost:8080/",
          "height": 424
        },
        "id": "-TEmROMri7uB",
        "outputId": "521bbb16-aa28-4ead-a9c3-17b8a3ad771b"
      },
      "execution_count": null,
      "outputs": [
        {
          "output_type": "execute_result",
          "data": {
            "text/plain": [
              "             0         1          2         3         4          5         6  \\\n",
              "0     0.627626  0.078453  -1.725970  3.451941 -3.138128  -2.902768  1.647517   \n",
              "1    -4.864098 -4.079566   1.569064  4.942552  1.412158   4.001113  6.433162   \n",
              "2    -3.138128  3.765754   0.784532 -0.941438 -2.510502   5.727084  2.510502   \n",
              "3    -2.510502 -5.099458   3.608847  1.255251 -4.393379  -2.039783  1.176798   \n",
              "4    -2.667409 -2.510502  -1.019892 -1.255251 -5.021005   0.000000  4.158020   \n",
              "...        ...       ...        ...       ...       ...        ...       ...   \n",
              "1195  0.000000  0.627626   1.098345 -2.588956  1.176798  -1.255251  5.334818   \n",
              "1196 -6.903882 -2.667409  -1.804424 -3.608847  3.059675  -5.962443  1.882877   \n",
              "1197 -3.138128 -2.824315   5.491724  0.706079 -2.118236 -10.042010  6.746975   \n",
              "1198 -0.706079  0.941438 -10.120463  8.159133 -6.040896  -0.627626 -2.510502   \n",
              "1199  1.961330  0.000000  -4.393379  4.393379  1.882877  -2.510502  2.510502   \n",
              "\n",
              "              7         8         9  ...       991       992       993  \\\n",
              "0      0.000000 -0.627626 -0.706079  ...  1.255251  0.862985 -0.941438   \n",
              "1      0.235360 -5.021005 -6.825428  ...  1.725970 -3.451941  0.549172   \n",
              "2     -2.275143  0.000000  1.490611  ...  3.059675 -3.765754 -6.433162   \n",
              "3      0.392266 -4.393379 -1.333704  ... -4.785645 -1.255251  0.706079   \n",
              "4     -0.392266 -3.765754 -1.725970  ...  0.784532 -6.433162  0.000000   \n",
              "...         ...       ...       ...  ...       ...       ...       ...   \n",
              "1195   0.862985 -3.844207 -4.079566  ...  2.510502  1.647517 -2.039783   \n",
              "1196   6.433162  0.000000 -2.353596  ... -1.490611  0.000000  0.862985   \n",
              "1197  13.101684 -1.490611 -2.510502  ... -5.727084 -4.158020 -5.021005   \n",
              "1198  -2.432049 -2.588956 -1.176798  ...  7.217694 -1.255251 -5.648630   \n",
              "1199  -0.235360 -2.196690  4.001113  ...  7.531507  0.000000  3.765754   \n",
              "\n",
              "           994       995       996       997       998       999  Status  \n",
              "0    -5.570177 -4.550286 -3.844207 -6.903882  0.549172  2.588956     1.0  \n",
              "1     3.687300  0.000000 -4.707192  2.039783 -0.313813 -3.844207     1.0  \n",
              "2     1.255251  5.334818 -1.019892 -1.333704  2.510502 -0.784532     1.0  \n",
              "3     0.313813 -1.725970  1.255251  4.550286  0.156906 -5.099458     1.0  \n",
              "4     3.922660  5.962443 -1.255251  0.156906  1.569064 -2.510502     1.0  \n",
              "...        ...       ...       ...       ...       ...       ...     ...  \n",
              "1195 -0.627626 -1.412158  1.882877 -1.412158  0.000000 -2.510502     0.0  \n",
              "1196  0.235360 -0.627626  2.588956  1.019892  8.786758  0.000000     0.0  \n",
              "1197  2.118236  5.021005 -5.727084 -1.255251  2.118236  0.235360     0.0  \n",
              "1198 -3.216581  3.922660  0.000000 -1.647517  2.432049 -9.100571     0.0  \n",
              "1199 -2.432049  7.453054 -0.313813 -4.707192 -2.981222 -0.078453     0.0  \n",
              "\n",
              "[1200 rows x 1001 columns]"
            ],
            "text/html": [
              "\n",
              "  <div id=\"df-f8e1a31a-920b-4f0f-8f74-8cb79c9de1a2\">\n",
              "    <div class=\"colab-df-container\">\n",
              "      <div>\n",
              "<style scoped>\n",
              "    .dataframe tbody tr th:only-of-type {\n",
              "        vertical-align: middle;\n",
              "    }\n",
              "\n",
              "    .dataframe tbody tr th {\n",
              "        vertical-align: top;\n",
              "    }\n",
              "\n",
              "    .dataframe thead th {\n",
              "        text-align: right;\n",
              "    }\n",
              "</style>\n",
              "<table border=\"1\" class=\"dataframe\">\n",
              "  <thead>\n",
              "    <tr style=\"text-align: right;\">\n",
              "      <th></th>\n",
              "      <th>0</th>\n",
              "      <th>1</th>\n",
              "      <th>2</th>\n",
              "      <th>3</th>\n",
              "      <th>4</th>\n",
              "      <th>5</th>\n",
              "      <th>6</th>\n",
              "      <th>7</th>\n",
              "      <th>8</th>\n",
              "      <th>9</th>\n",
              "      <th>...</th>\n",
              "      <th>991</th>\n",
              "      <th>992</th>\n",
              "      <th>993</th>\n",
              "      <th>994</th>\n",
              "      <th>995</th>\n",
              "      <th>996</th>\n",
              "      <th>997</th>\n",
              "      <th>998</th>\n",
              "      <th>999</th>\n",
              "      <th>Status</th>\n",
              "    </tr>\n",
              "  </thead>\n",
              "  <tbody>\n",
              "    <tr>\n",
              "      <th>0</th>\n",
              "      <td>0.627626</td>\n",
              "      <td>0.078453</td>\n",
              "      <td>-1.725970</td>\n",
              "      <td>3.451941</td>\n",
              "      <td>-3.138128</td>\n",
              "      <td>-2.902768</td>\n",
              "      <td>1.647517</td>\n",
              "      <td>0.000000</td>\n",
              "      <td>-0.627626</td>\n",
              "      <td>-0.706079</td>\n",
              "      <td>...</td>\n",
              "      <td>1.255251</td>\n",
              "      <td>0.862985</td>\n",
              "      <td>-0.941438</td>\n",
              "      <td>-5.570177</td>\n",
              "      <td>-4.550286</td>\n",
              "      <td>-3.844207</td>\n",
              "      <td>-6.903882</td>\n",
              "      <td>0.549172</td>\n",
              "      <td>2.588956</td>\n",
              "      <td>1.0</td>\n",
              "    </tr>\n",
              "    <tr>\n",
              "      <th>1</th>\n",
              "      <td>-4.864098</td>\n",
              "      <td>-4.079566</td>\n",
              "      <td>1.569064</td>\n",
              "      <td>4.942552</td>\n",
              "      <td>1.412158</td>\n",
              "      <td>4.001113</td>\n",
              "      <td>6.433162</td>\n",
              "      <td>0.235360</td>\n",
              "      <td>-5.021005</td>\n",
              "      <td>-6.825428</td>\n",
              "      <td>...</td>\n",
              "      <td>1.725970</td>\n",
              "      <td>-3.451941</td>\n",
              "      <td>0.549172</td>\n",
              "      <td>3.687300</td>\n",
              "      <td>0.000000</td>\n",
              "      <td>-4.707192</td>\n",
              "      <td>2.039783</td>\n",
              "      <td>-0.313813</td>\n",
              "      <td>-3.844207</td>\n",
              "      <td>1.0</td>\n",
              "    </tr>\n",
              "    <tr>\n",
              "      <th>2</th>\n",
              "      <td>-3.138128</td>\n",
              "      <td>3.765754</td>\n",
              "      <td>0.784532</td>\n",
              "      <td>-0.941438</td>\n",
              "      <td>-2.510502</td>\n",
              "      <td>5.727084</td>\n",
              "      <td>2.510502</td>\n",
              "      <td>-2.275143</td>\n",
              "      <td>0.000000</td>\n",
              "      <td>1.490611</td>\n",
              "      <td>...</td>\n",
              "      <td>3.059675</td>\n",
              "      <td>-3.765754</td>\n",
              "      <td>-6.433162</td>\n",
              "      <td>1.255251</td>\n",
              "      <td>5.334818</td>\n",
              "      <td>-1.019892</td>\n",
              "      <td>-1.333704</td>\n",
              "      <td>2.510502</td>\n",
              "      <td>-0.784532</td>\n",
              "      <td>1.0</td>\n",
              "    </tr>\n",
              "    <tr>\n",
              "      <th>3</th>\n",
              "      <td>-2.510502</td>\n",
              "      <td>-5.099458</td>\n",
              "      <td>3.608847</td>\n",
              "      <td>1.255251</td>\n",
              "      <td>-4.393379</td>\n",
              "      <td>-2.039783</td>\n",
              "      <td>1.176798</td>\n",
              "      <td>0.392266</td>\n",
              "      <td>-4.393379</td>\n",
              "      <td>-1.333704</td>\n",
              "      <td>...</td>\n",
              "      <td>-4.785645</td>\n",
              "      <td>-1.255251</td>\n",
              "      <td>0.706079</td>\n",
              "      <td>0.313813</td>\n",
              "      <td>-1.725970</td>\n",
              "      <td>1.255251</td>\n",
              "      <td>4.550286</td>\n",
              "      <td>0.156906</td>\n",
              "      <td>-5.099458</td>\n",
              "      <td>1.0</td>\n",
              "    </tr>\n",
              "    <tr>\n",
              "      <th>4</th>\n",
              "      <td>-2.667409</td>\n",
              "      <td>-2.510502</td>\n",
              "      <td>-1.019892</td>\n",
              "      <td>-1.255251</td>\n",
              "      <td>-5.021005</td>\n",
              "      <td>0.000000</td>\n",
              "      <td>4.158020</td>\n",
              "      <td>-0.392266</td>\n",
              "      <td>-3.765754</td>\n",
              "      <td>-1.725970</td>\n",
              "      <td>...</td>\n",
              "      <td>0.784532</td>\n",
              "      <td>-6.433162</td>\n",
              "      <td>0.000000</td>\n",
              "      <td>3.922660</td>\n",
              "      <td>5.962443</td>\n",
              "      <td>-1.255251</td>\n",
              "      <td>0.156906</td>\n",
              "      <td>1.569064</td>\n",
              "      <td>-2.510502</td>\n",
              "      <td>1.0</td>\n",
              "    </tr>\n",
              "    <tr>\n",
              "      <th>...</th>\n",
              "      <td>...</td>\n",
              "      <td>...</td>\n",
              "      <td>...</td>\n",
              "      <td>...</td>\n",
              "      <td>...</td>\n",
              "      <td>...</td>\n",
              "      <td>...</td>\n",
              "      <td>...</td>\n",
              "      <td>...</td>\n",
              "      <td>...</td>\n",
              "      <td>...</td>\n",
              "      <td>...</td>\n",
              "      <td>...</td>\n",
              "      <td>...</td>\n",
              "      <td>...</td>\n",
              "      <td>...</td>\n",
              "      <td>...</td>\n",
              "      <td>...</td>\n",
              "      <td>...</td>\n",
              "      <td>...</td>\n",
              "      <td>...</td>\n",
              "    </tr>\n",
              "    <tr>\n",
              "      <th>1195</th>\n",
              "      <td>0.000000</td>\n",
              "      <td>0.627626</td>\n",
              "      <td>1.098345</td>\n",
              "      <td>-2.588956</td>\n",
              "      <td>1.176798</td>\n",
              "      <td>-1.255251</td>\n",
              "      <td>5.334818</td>\n",
              "      <td>0.862985</td>\n",
              "      <td>-3.844207</td>\n",
              "      <td>-4.079566</td>\n",
              "      <td>...</td>\n",
              "      <td>2.510502</td>\n",
              "      <td>1.647517</td>\n",
              "      <td>-2.039783</td>\n",
              "      <td>-0.627626</td>\n",
              "      <td>-1.412158</td>\n",
              "      <td>1.882877</td>\n",
              "      <td>-1.412158</td>\n",
              "      <td>0.000000</td>\n",
              "      <td>-2.510502</td>\n",
              "      <td>0.0</td>\n",
              "    </tr>\n",
              "    <tr>\n",
              "      <th>1196</th>\n",
              "      <td>-6.903882</td>\n",
              "      <td>-2.667409</td>\n",
              "      <td>-1.804424</td>\n",
              "      <td>-3.608847</td>\n",
              "      <td>3.059675</td>\n",
              "      <td>-5.962443</td>\n",
              "      <td>1.882877</td>\n",
              "      <td>6.433162</td>\n",
              "      <td>0.000000</td>\n",
              "      <td>-2.353596</td>\n",
              "      <td>...</td>\n",
              "      <td>-1.490611</td>\n",
              "      <td>0.000000</td>\n",
              "      <td>0.862985</td>\n",
              "      <td>0.235360</td>\n",
              "      <td>-0.627626</td>\n",
              "      <td>2.588956</td>\n",
              "      <td>1.019892</td>\n",
              "      <td>8.786758</td>\n",
              "      <td>0.000000</td>\n",
              "      <td>0.0</td>\n",
              "    </tr>\n",
              "    <tr>\n",
              "      <th>1197</th>\n",
              "      <td>-3.138128</td>\n",
              "      <td>-2.824315</td>\n",
              "      <td>5.491724</td>\n",
              "      <td>0.706079</td>\n",
              "      <td>-2.118236</td>\n",
              "      <td>-10.042010</td>\n",
              "      <td>6.746975</td>\n",
              "      <td>13.101684</td>\n",
              "      <td>-1.490611</td>\n",
              "      <td>-2.510502</td>\n",
              "      <td>...</td>\n",
              "      <td>-5.727084</td>\n",
              "      <td>-4.158020</td>\n",
              "      <td>-5.021005</td>\n",
              "      <td>2.118236</td>\n",
              "      <td>5.021005</td>\n",
              "      <td>-5.727084</td>\n",
              "      <td>-1.255251</td>\n",
              "      <td>2.118236</td>\n",
              "      <td>0.235360</td>\n",
              "      <td>0.0</td>\n",
              "    </tr>\n",
              "    <tr>\n",
              "      <th>1198</th>\n",
              "      <td>-0.706079</td>\n",
              "      <td>0.941438</td>\n",
              "      <td>-10.120463</td>\n",
              "      <td>8.159133</td>\n",
              "      <td>-6.040896</td>\n",
              "      <td>-0.627626</td>\n",
              "      <td>-2.510502</td>\n",
              "      <td>-2.432049</td>\n",
              "      <td>-2.588956</td>\n",
              "      <td>-1.176798</td>\n",
              "      <td>...</td>\n",
              "      <td>7.217694</td>\n",
              "      <td>-1.255251</td>\n",
              "      <td>-5.648630</td>\n",
              "      <td>-3.216581</td>\n",
              "      <td>3.922660</td>\n",
              "      <td>0.000000</td>\n",
              "      <td>-1.647517</td>\n",
              "      <td>2.432049</td>\n",
              "      <td>-9.100571</td>\n",
              "      <td>0.0</td>\n",
              "    </tr>\n",
              "    <tr>\n",
              "      <th>1199</th>\n",
              "      <td>1.961330</td>\n",
              "      <td>0.000000</td>\n",
              "      <td>-4.393379</td>\n",
              "      <td>4.393379</td>\n",
              "      <td>1.882877</td>\n",
              "      <td>-2.510502</td>\n",
              "      <td>2.510502</td>\n",
              "      <td>-0.235360</td>\n",
              "      <td>-2.196690</td>\n",
              "      <td>4.001113</td>\n",
              "      <td>...</td>\n",
              "      <td>7.531507</td>\n",
              "      <td>0.000000</td>\n",
              "      <td>3.765754</td>\n",
              "      <td>-2.432049</td>\n",
              "      <td>7.453054</td>\n",
              "      <td>-0.313813</td>\n",
              "      <td>-4.707192</td>\n",
              "      <td>-2.981222</td>\n",
              "      <td>-0.078453</td>\n",
              "      <td>0.0</td>\n",
              "    </tr>\n",
              "  </tbody>\n",
              "</table>\n",
              "<p>1200 rows × 1001 columns</p>\n",
              "</div>\n",
              "      <button class=\"colab-df-convert\" onclick=\"convertToInteractive('df-f8e1a31a-920b-4f0f-8f74-8cb79c9de1a2')\"\n",
              "              title=\"Convert this dataframe to an interactive table.\"\n",
              "              style=\"display:none;\">\n",
              "        \n",
              "  <svg xmlns=\"http://www.w3.org/2000/svg\" height=\"24px\"viewBox=\"0 0 24 24\"\n",
              "       width=\"24px\">\n",
              "    <path d=\"M0 0h24v24H0V0z\" fill=\"none\"/>\n",
              "    <path d=\"M18.56 5.44l.94 2.06.94-2.06 2.06-.94-2.06-.94-.94-2.06-.94 2.06-2.06.94zm-11 1L8.5 8.5l.94-2.06 2.06-.94-2.06-.94L8.5 2.5l-.94 2.06-2.06.94zm10 10l.94 2.06.94-2.06 2.06-.94-2.06-.94-.94-2.06-.94 2.06-2.06.94z\"/><path d=\"M17.41 7.96l-1.37-1.37c-.4-.4-.92-.59-1.43-.59-.52 0-1.04.2-1.43.59L10.3 9.45l-7.72 7.72c-.78.78-.78 2.05 0 2.83L4 21.41c.39.39.9.59 1.41.59.51 0 1.02-.2 1.41-.59l7.78-7.78 2.81-2.81c.8-.78.8-2.07 0-2.86zM5.41 20L4 18.59l7.72-7.72 1.47 1.35L5.41 20z\"/>\n",
              "  </svg>\n",
              "      </button>\n",
              "      \n",
              "  <style>\n",
              "    .colab-df-container {\n",
              "      display:flex;\n",
              "      flex-wrap:wrap;\n",
              "      gap: 12px;\n",
              "    }\n",
              "\n",
              "    .colab-df-convert {\n",
              "      background-color: #E8F0FE;\n",
              "      border: none;\n",
              "      border-radius: 50%;\n",
              "      cursor: pointer;\n",
              "      display: none;\n",
              "      fill: #1967D2;\n",
              "      height: 32px;\n",
              "      padding: 0 0 0 0;\n",
              "      width: 32px;\n",
              "    }\n",
              "\n",
              "    .colab-df-convert:hover {\n",
              "      background-color: #E2EBFA;\n",
              "      box-shadow: 0px 1px 2px rgba(60, 64, 67, 0.3), 0px 1px 3px 1px rgba(60, 64, 67, 0.15);\n",
              "      fill: #174EA6;\n",
              "    }\n",
              "\n",
              "    [theme=dark] .colab-df-convert {\n",
              "      background-color: #3B4455;\n",
              "      fill: #D2E3FC;\n",
              "    }\n",
              "\n",
              "    [theme=dark] .colab-df-convert:hover {\n",
              "      background-color: #434B5C;\n",
              "      box-shadow: 0px 1px 3px 1px rgba(0, 0, 0, 0.15);\n",
              "      filter: drop-shadow(0px 1px 2px rgba(0, 0, 0, 0.3));\n",
              "      fill: #FFFFFF;\n",
              "    }\n",
              "  </style>\n",
              "\n",
              "      <script>\n",
              "        const buttonEl =\n",
              "          document.querySelector('#df-f8e1a31a-920b-4f0f-8f74-8cb79c9de1a2 button.colab-df-convert');\n",
              "        buttonEl.style.display =\n",
              "          google.colab.kernel.accessAllowed ? 'block' : 'none';\n",
              "\n",
              "        async function convertToInteractive(key) {\n",
              "          const element = document.querySelector('#df-f8e1a31a-920b-4f0f-8f74-8cb79c9de1a2');\n",
              "          const dataTable =\n",
              "            await google.colab.kernel.invokeFunction('convertToInteractive',\n",
              "                                                     [key], {});\n",
              "          if (!dataTable) return;\n",
              "\n",
              "          const docLinkHtml = 'Like what you see? Visit the ' +\n",
              "            '<a target=\"_blank\" href=https://colab.research.google.com/notebooks/data_table.ipynb>data table notebook</a>'\n",
              "            + ' to learn more about interactive tables.';\n",
              "          element.innerHTML = '';\n",
              "          dataTable['output_type'] = 'display_data';\n",
              "          await google.colab.output.renderOutput(dataTable, element);\n",
              "          const docLink = document.createElement('div');\n",
              "          docLink.innerHTML = docLinkHtml;\n",
              "          element.appendChild(docLink);\n",
              "        }\n",
              "      </script>\n",
              "    </div>\n",
              "  </div>\n",
              "  "
            ]
          },
          "metadata": {},
          "execution_count": 252
        }
      ]
    },
    {
      "cell_type": "markdown",
      "source": [
        "Now is time to separate the data values from the label values. After that, the data is splitted into training and testing data. A good hereustic number for the test size data is 20% of the dataset. "
      ],
      "metadata": {
        "id": "Xdgwr0M6ggKi"
      }
    },
    {
      "cell_type": "code",
      "source": [
        "raw_data = ds.values\n",
        "# The last element contains the labels\n",
        "labels = raw_data[:, -1]\n",
        "\n",
        "# The other data points are the vacuum accelerometer data\n",
        "data = raw_data[:, 0:-1]\n",
        "\n",
        "train_data, test_data, train_labels, test_labels = train_test_split(\n",
        "    data, labels, test_size=0.2, random_state=21\n",
        ")"
      ],
      "metadata": {
        "id": "r8yC3EFhkgma"
      },
      "execution_count": null,
      "outputs": []
    },
    {
      "cell_type": "markdown",
      "source": [
        "Prior to training the autoencoder, we first apply a minmax scaling transform to the input data which converts it from its original range to a range of (0 to 1) This is done for two main reasons. First, existing research suggests that neural networks in general train better when input values lie between 0 and 1 (or have zero mean and unit variance). Secondly, scaling the data supports the learning objective for the autoencoder (minimizing reconstruction error) and makes the results more interpretable. \n",
        "\n",
        "In general, the range of output values from the autoencoder is dependent on the type of activation function used in the output layer. For example, the tanh activation function outputs values in the range of -1 and 1, sigmoid outputs values in the range of 0 - 1. In the example, we use the sigmoid activation function in the output layer of the autoencoder, allowing us directly compare the transformed input signal to the output data when computing the means square error metric during training. In addition, having both input and output in the same range allows us to visualize the differences that contribute to the anomaly classification."
      ],
      "metadata": {
        "id": "QFLuEnyIg8pW"
      }
    },
    {
      "cell_type": "code",
      "source": [
        "#Normalizing the values of the dataset \n",
        "min_val = tf.reduce_min(train_data)\n",
        "max_val = tf.reduce_max(train_data)\n",
        "\n",
        "train_data = (train_data - min_val) / (max_val - min_val)\n",
        "test_data = (test_data - min_val) / (max_val - min_val)\n",
        "\n",
        "train_data = tf.cast(train_data, tf.float32)\n",
        "test_data = tf.cast(test_data, tf.float32)"
      ],
      "metadata": {
        "id": "u9_yJdZwj3ed"
      },
      "execution_count": null,
      "outputs": []
    },
    {
      "cell_type": "markdown",
      "source": [
        "You will train the autoencoder using only the normal rhythms, which are labeled in this dataset as `1`. Separate the normal vibrations from the abnormal vibrations."
      ],
      "metadata": {
        "id": "NW8VzPKNho1m"
      }
    },
    {
      "cell_type": "code",
      "source": [
        "#Splitting the dataset based on classification: train_labels: Vacuuming, ~train_labels: Air Leakage\n",
        "train_labels = train_labels.astype(bool)\n",
        "test_labels = test_labels.astype(bool)\n",
        "\n",
        "normal_train_data = train_data[train_labels]\n",
        "normal_test_data = test_data[test_labels]\n",
        "\n",
        "anomalous_train_data = train_data[~train_labels]\n",
        "anomalous_test_data = test_data[~test_labels]\n",
        "\n",
        "portion_of_anomaly_in_training = 0.1 #10% of training data will be anomalies\n",
        "end_size = int(len(normal_train_data)/(10-portion_of_anomaly_in_training*10))\n",
        "combined_train_data = np.append(normal_train_data, anomalous_test_data[:end_size], axis=0)\n",
        "combined_train_data.shape"
      ],
      "metadata": {
        "colab": {
          "base_uri": "https://localhost:8080/"
        },
        "id": "XQwDo4tr3ILH",
        "outputId": "ec2f1673-7079-46b0-89dd-fd4d79aeb2ff"
      },
      "execution_count": null,
      "outputs": [
        {
          "output_type": "execute_result",
          "data": {
            "text/plain": [
              "(536, 1000)"
            ]
          },
          "metadata": {},
          "execution_count": 256
        }
      ]
    },
    {
      "cell_type": "markdown",
      "source": [
        "Plot a normal vibration signal"
      ],
      "metadata": {
        "id": "keUg8fRBjG3P"
      }
    },
    {
      "cell_type": "code",
      "source": [
        "#Plotting sample of normal data\n",
        "plt.grid()\n",
        "plt.plot(np.arange(1000), normal_train_data[0])\n",
        "plt.title(\"A Normal vibration signal\")\n",
        "plt.show()"
      ],
      "metadata": {
        "colab": {
          "base_uri": "https://localhost:8080/",
          "height": 281
        },
        "id": "bDizxezW3JYj",
        "outputId": "44037130-3f9e-477b-d382-338ae0af90fc"
      },
      "execution_count": null,
      "outputs": [
        {
          "output_type": "display_data",
          "data": {
            "text/plain": [
              "<Figure size 432x288 with 1 Axes>"
            ],
            "image/png": "[encoded data removed]"
          },
          "metadata": {
            "needs_background": "light"
          }
        }
      ]
    },
    {
      "cell_type": "markdown",
      "source": [
        "Plot an anomalous vibration signal"
      ],
      "metadata": {
        "id": "Iq6vSzzsjL9W"
      }
    },
    {
      "cell_type": "code",
      "source": [
        "#Plotting sample of anomalous data\n",
        "plt.grid()\n",
        "plt.plot(np.arange(1000), anomalous_train_data[0])\n",
        "plt.title(\"An abnormal vibration signal (Air leakage)\")\n",
        "plt.show()"
      ],
      "metadata": {
        "colab": {
          "base_uri": "https://localhost:8080/",
          "height": 281
        },
        "id": "VFU5jvbh6o2l",
        "outputId": "fdb6b90f-f72d-431b-cdd1-226d0a7a9d97"
      },
      "execution_count": null,
      "outputs": [
        {
          "output_type": "display_data",
          "data": {
            "text/plain": [
              "<Figure size 432x288 with 1 Axes>"
            ],
            "image/png": "[encoded data removed]"
          },
          "metadata": {
            "needs_background": "light"
          }
        }
      ]
    },
    {
      "cell_type": "code",
      "source": [
        "#@title Q1. What What differences do you notice between the normal and anomalous plots?\n",
        "\n",
        "Q1 = '' #@param {type:\"string\"}\n",
        "\n",
        "print(Q1)"
      ],
      "metadata": {
        "cellView": "form",
        "id": "x-xgUSIGkJiR"
      },
      "execution_count": null,
      "outputs": []
    },
    {
      "cell_type": "markdown",
      "source": [
        "### Picking an Embedding to Build the Model\n",
        "\n",
        "After training and evaluating the example model, try modifying the size and number of layers to build an understanding for autoencoder architectures.\n",
        "\n",
        "Note: Changing the size of the embedding (the smallest layer) can produce interesting results. Feel free to play around with that layer size by assigning a value to the variable EMBEDDING_SIZE."
      ],
      "metadata": {
        "id": "Ln_H7EcsjPxk"
      }
    },
    {
      "cell_type": "code",
      "source": [
        "#Creating the artificial neural network using Autoencoder\n",
        "EMBEDDING_SIZE =  #Define how many neurons in the inner layer   <-----------------------------------------------------------------------------\n",
        "class AnomalyDetector(Model):\n",
        "  def __init__(self):\n",
        "    super(AnomalyDetector, self).__init__()\n",
        "    self.encoder = tf.keras.Sequential([\n",
        "      layers.Dense(32, activation=\"relu\"),\n",
        "      layers.Dense(16, activation=\"relu\"),\n",
        "      layers.Dense(EMBEDDING_SIZE, activation=\"relu\")]) # Smallest Layer Defined Here\n",
        "    \n",
        "    self.decoder = tf.keras.Sequential([\n",
        "      layers.Dense(16, activation=\"relu\"),\n",
        "      layers.Dense(32, activation=\"relu\"),\n",
        "      layers.Dense(1000, activation=\"sigmoid\")])\n",
        "    \n",
        "  def call(self, x):\n",
        "    encoded = self.encoder(x)\n",
        "    decoded = self.decoder(encoded)\n",
        "    return decoded\n",
        "\n",
        "autoencoder = AnomalyDetector()\n",
        "print(\"Chosen Embedding Size: \", EMBEDDING_SIZE)\n",
        "autoencoder.compile(optimizer='adam', loss='mae')"
      ],
      "metadata": {
        "colab": {
          "base_uri": "https://localhost:8080/"
        },
        "id": "hw23I41i7u-2",
        "outputId": "5a8de5ce-b4e8-4743-9ad7-eb2ee6bb0621"
      },
      "execution_count": null,
      "outputs": [
        {
          "output_type": "stream",
          "name": "stdout",
          "text": [
            "Chosen Embedding Size:  12\n"
          ]
        }
      ]
    },
    {
      "cell_type": "markdown",
      "source": [
        "### Train the model\n",
        "\n",
        "Notice that the autoencoder is trained using only the normal vibrations, but is evaluated using the full test set."
      ],
      "metadata": {
        "id": "g2KZvqXih99s"
      }
    },
    {
      "cell_type": "code",
      "source": [
        "#Training the model. \n",
        "history = autoencoder.fit(normal_train_data, normal_train_data, \n",
        "          epochs=200, \n",
        "          batch_size=200,\n",
        "          validation_data=(test_data, test_data),\n",
        "          shuffle=True)"
      ],
      "metadata": {
        "colab": {
          "base_uri": "https://localhost:8080/"
        },
        "id": "iqyco-ZS75Ro",
        "outputId": "9c9dd562-dd9b-4fae-f760-20d6468c7bd4"
      },
      "execution_count": null,
      "outputs": [
        {
          "output_type": "stream",
          "name": "stdout",
          "text": [
            "Epoch 1/200\n",
            "3/3 [==============================] - 1s 107ms/step - loss: 0.0618 - val_loss: 0.0656\n",
            "Epoch 2/200\n",
            "3/3 [==============================] - 0s 21ms/step - loss: 0.0615 - val_loss: 0.0655\n",
            "Epoch 3/200\n",
            "3/3 [==============================] - 0s 28ms/step - loss: 0.0615 - val_loss: 0.0655\n",
            "Epoch 4/200\n",
            "3/3 [==============================] - 0s 23ms/step - loss: 0.0615 - val_loss: 0.0655\n",
            "Epoch 5/200\n",
            "3/3 [==============================] - 0s 23ms/step - loss: 0.0615 - val_loss: 0.0656\n",
            "Epoch 6/200\n",
            "3/3 [==============================] - 0s 24ms/step - loss: 0.0615 - val_loss: 0.0656\n",
            "Epoch 7/200\n",
            "3/3 [==============================] - 0s 22ms/step - loss: 0.0615 - val_loss: 0.0656\n",
            "Epoch 8/200\n",
            "3/3 [==============================] - 0s 23ms/step - loss: 0.0615 - val_loss: 0.0656\n",
            "Epoch 9/200\n",
            "3/3 [==============================] - 0s 35ms/step - loss: 0.0615 - val_loss: 0.0656\n",
            "Epoch 10/200\n",
            "3/3 [==============================] - 0s 24ms/step - loss: 0.0615 - val_loss: 0.0656\n",
            "Epoch 11/200\n",
            "3/3 [==============================] - 0s 20ms/step - loss: 0.0615 - val_loss: 0.0656\n",
            "Epoch 12/200\n",
            "3/3 [==============================] - 0s 20ms/step - loss: 0.0615 - val_loss: 0.0656\n",
            "Epoch 13/200\n",
            "3/3 [==============================] - 0s 20ms/step - loss: 0.0615 - val_loss: 0.0656\n",
            "Epoch 14/200\n",
            "3/3 [==============================] - 0s 30ms/step - loss: 0.0614 - val_loss: 0.0656\n",
            "Epoch 15/200\n",
            "3/3 [==============================] - 0s 21ms/step - loss: 0.0614 - val_loss: 0.0656\n",
            "Epoch 16/200\n",
            "3/3 [==============================] - 0s 20ms/step - loss: 0.0614 - val_loss: 0.0656\n",
            "Epoch 17/200\n",
            "3/3 [==============================] - 0s 19ms/step - loss: 0.0614 - val_loss: 0.0656\n",
            "Epoch 18/200\n",
            "3/3 [==============================] - 0s 25ms/step - loss: 0.0614 - val_loss: 0.0656\n",
            "Epoch 19/200\n",
            "3/3 [==============================] - 0s 20ms/step - loss: 0.0614 - val_loss: 0.0656\n",
            "Epoch 20/200\n",
            "3/3 [==============================] - 0s 20ms/step - loss: 0.0614 - val_loss: 0.0656\n",
            "Epoch 21/200\n",
            "3/3 [==============================] - 0s 19ms/step - loss: 0.0614 - val_loss: 0.0656\n",
            "Epoch 22/200\n",
            "3/3 [==============================] - 0s 19ms/step - loss: 0.0614 - val_loss: 0.0656\n",
            "Epoch 23/200\n",
            "3/3 [==============================] - 0s 20ms/step - loss: 0.0614 - val_loss: 0.0656\n",
            "Epoch 24/200\n",
            "3/3 [==============================] - 0s 21ms/step - loss: 0.0614 - val_loss: 0.0656\n",
            "Epoch 25/200\n",
            "3/3 [==============================] - 0s 21ms/step - loss: 0.0614 - val_loss: 0.0656\n",
            "Epoch 26/200\n",
            "3/3 [==============================] - 0s 27ms/step - loss: 0.0614 - val_loss: 0.0656\n",
            "Epoch 27/200\n",
            "3/3 [==============================] - 0s 27ms/step - loss: 0.0614 - val_loss: 0.0656\n",
            "Epoch 28/200\n",
            "3/3 [==============================] - 0s 32ms/step - loss: 0.0614 - val_loss: 0.0656\n",
            "Epoch 29/200\n",
            "3/3 [==============================] - 0s 22ms/step - loss: 0.0614 - val_loss: 0.0656\n",
            "Epoch 30/200\n",
            "3/3 [==============================] - 0s 31ms/step - loss: 0.0614 - val_loss: 0.0656\n",
            "Epoch 31/200\n",
            "3/3 [==============================] - 0s 25ms/step - loss: 0.0614 - val_loss: 0.0656\n",
            "Epoch 32/200\n",
            "3/3 [==============================] - 0s 22ms/step - loss: 0.0614 - val_loss: 0.0656\n",
            "Epoch 33/200\n",
            "3/3 [==============================] - 0s 24ms/step - loss: 0.0614 - val_loss: 0.0655\n",
            "Epoch 34/200\n",
            "3/3 [==============================] - 0s 23ms/step - loss: 0.0614 - val_loss: 0.0655\n",
            "Epoch 35/200\n",
            "3/3 [==============================] - 0s 25ms/step - loss: 0.0614 - val_loss: 0.0655\n",
            "Epoch 36/200\n",
            "3/3 [==============================] - 0s 22ms/step - loss: 0.0613 - val_loss: 0.0655\n",
            "Epoch 37/200\n",
            "3/3 [==============================] - 0s 22ms/step - loss: 0.0613 - val_loss: 0.0655\n",
            "Epoch 38/200\n",
            "3/3 [==============================] - 0s 26ms/step - loss: 0.0612 - val_loss: 0.0655\n",
            "Epoch 39/200\n",
            "3/3 [==============================] - 0s 24ms/step - loss: 0.0611 - val_loss: 0.0654\n",
            "Epoch 40/200\n",
            "3/3 [==============================] - 0s 37ms/step - loss: 0.0610 - val_loss: 0.0653\n",
            "Epoch 41/200\n",
            "3/3 [==============================] - 0s 20ms/step - loss: 0.0609 - val_loss: 0.0653\n",
            "Epoch 42/200\n",
            "3/3 [==============================] - 0s 28ms/step - loss: 0.0608 - val_loss: 0.0653\n",
            "Epoch 43/200\n",
            "3/3 [==============================] - 0s 20ms/step - loss: 0.0607 - val_loss: 0.0651\n",
            "Epoch 44/200\n",
            "3/3 [==============================] - 0s 20ms/step - loss: 0.0605 - val_loss: 0.0650\n",
            "Epoch 45/200\n",
            "3/3 [==============================] - 0s 21ms/step - loss: 0.0604 - val_loss: 0.0649\n",
            "Epoch 46/200\n",
            "3/3 [==============================] - 0s 20ms/step - loss: 0.0603 - val_loss: 0.0649\n",
            "Epoch 47/200\n",
            "3/3 [==============================] - 0s 20ms/step - loss: 0.0603 - val_loss: 0.0649\n",
            "Epoch 48/200\n",
            "3/3 [==============================] - 0s 20ms/step - loss: 0.0602 - val_loss: 0.0649\n",
            "Epoch 49/200\n",
            "3/3 [==============================] - 0s 21ms/step - loss: 0.0602 - val_loss: 0.0648\n",
            "Epoch 50/200\n",
            "3/3 [==============================] - 0s 24ms/step - loss: 0.0601 - val_loss: 0.0648\n",
            "Epoch 51/200\n",
            "3/3 [==============================] - 0s 20ms/step - loss: 0.0601 - val_loss: 0.0647\n",
            "Epoch 52/200\n",
            "3/3 [==============================] - 0s 27ms/step - loss: 0.0601 - val_loss: 0.0647\n",
            "Epoch 53/200\n",
            "3/3 [==============================] - 0s 21ms/step - loss: 0.0600 - val_loss: 0.0647\n",
            "Epoch 54/200\n",
            "3/3 [==============================] - 0s 20ms/step - loss: 0.0600 - val_loss: 0.0647\n",
            "Epoch 55/200\n",
            "3/3 [==============================] - 0s 19ms/step - loss: 0.0600 - val_loss: 0.0646\n",
            "Epoch 56/200\n",
            "3/3 [==============================] - 0s 19ms/step - loss: 0.0599 - val_loss: 0.0646\n",
            "Epoch 57/200\n",
            "3/3 [==============================] - 0s 26ms/step - loss: 0.0599 - val_loss: 0.0646\n",
            "Epoch 58/200\n",
            "3/3 [==============================] - 0s 20ms/step - loss: 0.0599 - val_loss: 0.0645\n",
            "Epoch 59/200\n",
            "3/3 [==============================] - 0s 19ms/step - loss: 0.0598 - val_loss: 0.0645\n",
            "Epoch 60/200\n",
            "3/3 [==============================] - 0s 20ms/step - loss: 0.0598 - val_loss: 0.0645\n",
            "Epoch 61/200\n",
            "3/3 [==============================] - 0s 19ms/step - loss: 0.0598 - val_loss: 0.0644\n",
            "Epoch 62/200\n",
            "3/3 [==============================] - 0s 19ms/step - loss: 0.0597 - val_loss: 0.0644\n",
            "Epoch 63/200\n",
            "3/3 [==============================] - 0s 21ms/step - loss: 0.0597 - val_loss: 0.0644\n",
            "Epoch 64/200\n",
            "3/3 [==============================] - 0s 24ms/step - loss: 0.0597 - val_loss: 0.0643\n",
            "Epoch 65/200\n",
            "3/3 [==============================] - 0s 23ms/step - loss: 0.0596 - val_loss: 0.0643\n",
            "Epoch 66/200\n",
            "3/3 [==============================] - 0s 22ms/step - loss: 0.0596 - val_loss: 0.0643\n",
            "Epoch 67/200\n",
            "3/3 [==============================] - 0s 20ms/step - loss: 0.0596 - val_loss: 0.0643\n",
            "Epoch 68/200\n",
            "3/3 [==============================] - 0s 20ms/step - loss: 0.0595 - val_loss: 0.0642\n",
            "Epoch 69/200\n",
            "3/3 [==============================] - 0s 20ms/step - loss: 0.0595 - val_loss: 0.0642\n",
            "Epoch 70/200\n",
            "3/3 [==============================] - 0s 23ms/step - loss: 0.0595 - val_loss: 0.0643\n",
            "Epoch 71/200\n",
            "3/3 [==============================] - 0s 20ms/step - loss: 0.0595 - val_loss: 0.0642\n",
            "Epoch 72/200\n",
            "3/3 [==============================] - 0s 21ms/step - loss: 0.0595 - val_loss: 0.0642\n",
            "Epoch 73/200\n",
            "3/3 [==============================] - 0s 27ms/step - loss: 0.0594 - val_loss: 0.0643\n",
            "Epoch 74/200\n",
            "3/3 [==============================] - 0s 26ms/step - loss: 0.0594 - val_loss: 0.0642\n",
            "Epoch 75/200\n",
            "3/3 [==============================] - 0s 20ms/step - loss: 0.0594 - val_loss: 0.0641\n",
            "Epoch 76/200\n",
            "3/3 [==============================] - 0s 20ms/step - loss: 0.0594 - val_loss: 0.0641\n",
            "Epoch 77/200\n",
            "3/3 [==============================] - 0s 19ms/step - loss: 0.0594 - val_loss: 0.0641\n",
            "Epoch 78/200\n",
            "3/3 [==============================] - 0s 19ms/step - loss: 0.0593 - val_loss: 0.0641\n",
            "Epoch 79/200\n",
            "3/3 [==============================] - 0s 19ms/step - loss: 0.0593 - val_loss: 0.0641\n",
            "Epoch 80/200\n",
            "3/3 [==============================] - 0s 19ms/step - loss: 0.0593 - val_loss: 0.0641\n",
            "Epoch 81/200\n",
            "3/3 [==============================] - 0s 21ms/step - loss: 0.0593 - val_loss: 0.0641\n",
            "Epoch 82/200\n",
            "3/3 [==============================] - 0s 19ms/step - loss: 0.0593 - val_loss: 0.0641\n",
            "Epoch 83/200\n",
            "3/3 [==============================] - 0s 21ms/step - loss: 0.0593 - val_loss: 0.0641\n",
            "Epoch 84/200\n",
            "3/3 [==============================] - 0s 19ms/step - loss: 0.0593 - val_loss: 0.0641\n",
            "Epoch 85/200\n",
            "3/3 [==============================] - 0s 23ms/step - loss: 0.0593 - val_loss: 0.0641\n",
            "Epoch 86/200\n",
            "3/3 [==============================] - 0s 20ms/step - loss: 0.0593 - val_loss: 0.0641\n",
            "Epoch 87/200\n",
            "3/3 [==============================] - 0s 20ms/step - loss: 0.0592 - val_loss: 0.0641\n",
            "Epoch 88/200\n",
            "3/3 [==============================] - 0s 23ms/step - loss: 0.0592 - val_loss: 0.0640\n",
            "Epoch 89/200\n",
            "3/3 [==============================] - 0s 21ms/step - loss: 0.0592 - val_loss: 0.0640\n",
            "Epoch 90/200\n",
            "3/3 [==============================] - 0s 22ms/step - loss: 0.0592 - val_loss: 0.0640\n",
            "Epoch 91/200\n",
            "3/3 [==============================] - 0s 27ms/step - loss: 0.0592 - val_loss: 0.0640\n",
            "Epoch 92/200\n",
            "3/3 [==============================] - 0s 24ms/step - loss: 0.0592 - val_loss: 0.0641\n",
            "Epoch 93/200\n",
            "3/3 [==============================] - 0s 27ms/step - loss: 0.0592 - val_loss: 0.0641\n",
            "Epoch 94/200\n",
            "3/3 [==============================] - 0s 25ms/step - loss: 0.0592 - val_loss: 0.0640\n",
            "Epoch 95/200\n",
            "3/3 [==============================] - 0s 24ms/step - loss: 0.0592 - val_loss: 0.0640\n",
            "Epoch 96/200\n",
            "3/3 [==============================] - 0s 22ms/step - loss: 0.0592 - val_loss: 0.0640\n",
            "Epoch 97/200\n",
            "3/3 [==============================] - 0s 22ms/step - loss: 0.0592 - val_loss: 0.0640\n",
            "Epoch 98/200\n",
            "3/3 [==============================] - 0s 24ms/step - loss: 0.0592 - val_loss: 0.0641\n",
            "Epoch 99/200\n",
            "3/3 [==============================] - 0s 24ms/step - loss: 0.0592 - val_loss: 0.0641\n",
            "Epoch 100/200\n",
            "3/3 [==============================] - 0s 21ms/step - loss: 0.0592 - val_loss: 0.0640\n",
            "Epoch 101/200\n",
            "3/3 [==============================] - 0s 24ms/step - loss: 0.0592 - val_loss: 0.0641\n",
            "Epoch 102/200\n",
            "3/3 [==============================] - 0s 24ms/step - loss: 0.0592 - val_loss: 0.0641\n",
            "Epoch 103/200\n",
            "3/3 [==============================] - 0s 23ms/step - loss: 0.0592 - val_loss: 0.0640\n",
            "Epoch 104/200\n",
            "3/3 [==============================] - 0s 22ms/step - loss: 0.0592 - val_loss: 0.0640\n",
            "Epoch 105/200\n",
            "3/3 [==============================] - 0s 31ms/step - loss: 0.0592 - val_loss: 0.0640\n",
            "Epoch 106/200\n",
            "3/3 [==============================] - 0s 23ms/step - loss: 0.0592 - val_loss: 0.0641\n",
            "Epoch 107/200\n",
            "3/3 [==============================] - 0s 30ms/step - loss: 0.0592 - val_loss: 0.0641\n",
            "Epoch 108/200\n",
            "3/3 [==============================] - 0s 22ms/step - loss: 0.0592 - val_loss: 0.0640\n",
            "Epoch 109/200\n",
            "3/3 [==============================] - 0s 22ms/step - loss: 0.0592 - val_loss: 0.0641\n",
            "Epoch 110/200\n",
            "3/3 [==============================] - 0s 23ms/step - loss: 0.0592 - val_loss: 0.0641\n",
            "Epoch 111/200\n",
            "3/3 [==============================] - 0s 22ms/step - loss: 0.0591 - val_loss: 0.0640\n",
            "Epoch 112/200\n",
            "3/3 [==============================] - 0s 24ms/step - loss: 0.0591 - val_loss: 0.0640\n",
            "Epoch 113/200\n",
            "3/3 [==============================] - 0s 27ms/step - loss: 0.0591 - val_loss: 0.0640\n",
            "Epoch 114/200\n",
            "3/3 [==============================] - 0s 25ms/step - loss: 0.0591 - val_loss: 0.0641\n",
            "Epoch 115/200\n",
            "3/3 [==============================] - 0s 24ms/step - loss: 0.0592 - val_loss: 0.0641\n",
            "Epoch 116/200\n",
            "3/3 [==============================] - 0s 30ms/step - loss: 0.0591 - val_loss: 0.0641\n",
            "Epoch 117/200\n",
            "3/3 [==============================] - 0s 27ms/step - loss: 0.0591 - val_loss: 0.0641\n",
            "Epoch 118/200\n",
            "3/3 [==============================] - 0s 23ms/step - loss: 0.0591 - val_loss: 0.0641\n",
            "Epoch 119/200\n",
            "3/3 [==============================] - 0s 24ms/step - loss: 0.0591 - val_loss: 0.0641\n",
            "Epoch 120/200\n",
            "3/3 [==============================] - 0s 24ms/step - loss: 0.0591 - val_loss: 0.0641\n",
            "Epoch 121/200\n",
            "3/3 [==============================] - 0s 23ms/step - loss: 0.0591 - val_loss: 0.0641\n",
            "Epoch 122/200\n",
            "3/3 [==============================] - 0s 36ms/step - loss: 0.0591 - val_loss: 0.0641\n",
            "Epoch 123/200\n",
            "3/3 [==============================] - 0s 23ms/step - loss: 0.0591 - val_loss: 0.0641\n",
            "Epoch 124/200\n",
            "3/3 [==============================] - 0s 27ms/step - loss: 0.0591 - val_loss: 0.0641\n",
            "Epoch 125/200\n",
            "3/3 [==============================] - 0s 23ms/step - loss: 0.0591 - val_loss: 0.0641\n",
            "Epoch 126/200\n",
            "3/3 [==============================] - 0s 24ms/step - loss: 0.0591 - val_loss: 0.0641\n",
            "Epoch 127/200\n",
            "3/3 [==============================] - 0s 22ms/step - loss: 0.0591 - val_loss: 0.0641\n",
            "Epoch 128/200\n",
            "3/3 [==============================] - 0s 24ms/step - loss: 0.0591 - val_loss: 0.0641\n",
            "Epoch 129/200\n",
            "3/3 [==============================] - 0s 24ms/step - loss: 0.0591 - val_loss: 0.0641\n",
            "Epoch 130/200\n",
            "3/3 [==============================] - 0s 26ms/step - loss: 0.0591 - val_loss: 0.0641\n",
            "Epoch 131/200\n",
            "3/3 [==============================] - 0s 25ms/step - loss: 0.0591 - val_loss: 0.0641\n",
            "Epoch 132/200\n",
            "3/3 [==============================] - 0s 28ms/step - loss: 0.0591 - val_loss: 0.0641\n",
            "Epoch 133/200\n",
            "3/3 [==============================] - 0s 30ms/step - loss: 0.0591 - val_loss: 0.0641\n",
            "Epoch 134/200\n",
            "3/3 [==============================] - 0s 24ms/step - loss: 0.0591 - val_loss: 0.0641\n",
            "Epoch 135/200\n",
            "3/3 [==============================] - 0s 24ms/step - loss: 0.0591 - val_loss: 0.0641\n",
            "Epoch 136/200\n",
            "3/3 [==============================] - 0s 27ms/step - loss: 0.0591 - val_loss: 0.0641\n",
            "Epoch 137/200\n",
            "3/3 [==============================] - 0s 22ms/step - loss: 0.0591 - val_loss: 0.0641\n",
            "Epoch 138/200\n",
            "3/3 [==============================] - 0s 22ms/step - loss: 0.0591 - val_loss: 0.0641\n",
            "Epoch 139/200\n",
            "3/3 [==============================] - 0s 23ms/step - loss: 0.0591 - val_loss: 0.0641\n",
            "Epoch 140/200\n",
            "3/3 [==============================] - 0s 23ms/step - loss: 0.0591 - val_loss: 0.0641\n",
            "Epoch 141/200\n",
            "3/3 [==============================] - 0s 23ms/step - loss: 0.0591 - val_loss: 0.0641\n",
            "Epoch 142/200\n",
            "3/3 [==============================] - 0s 19ms/step - loss: 0.0590 - val_loss: 0.0641\n",
            "Epoch 143/200\n",
            "3/3 [==============================] - 0s 25ms/step - loss: 0.0590 - val_loss: 0.0641\n",
            "Epoch 144/200\n",
            "3/3 [==============================] - 0s 22ms/step - loss: 0.0590 - val_loss: 0.0641\n",
            "Epoch 145/200\n",
            "3/3 [==============================] - 0s 20ms/step - loss: 0.0590 - val_loss: 0.0641\n",
            "Epoch 146/200\n",
            "3/3 [==============================] - 0s 21ms/step - loss: 0.0590 - val_loss: 0.0641\n",
            "Epoch 147/200\n",
            "3/3 [==============================] - 0s 22ms/step - loss: 0.0590 - val_loss: 0.0641\n",
            "Epoch 148/200\n",
            "3/3 [==============================] - 0s 29ms/step - loss: 0.0590 - val_loss: 0.0641\n",
            "Epoch 149/200\n",
            "3/3 [==============================] - 0s 23ms/step - loss: 0.0590 - val_loss: 0.0641\n",
            "Epoch 150/200\n",
            "3/3 [==============================] - 0s 23ms/step - loss: 0.0590 - val_loss: 0.0641\n",
            "Epoch 151/200\n",
            "3/3 [==============================] - 0s 20ms/step - loss: 0.0590 - val_loss: 0.0641\n",
            "Epoch 152/200\n",
            "3/3 [==============================] - 0s 23ms/step - loss: 0.0590 - val_loss: 0.0641\n",
            "Epoch 153/200\n",
            "3/3 [==============================] - 0s 20ms/step - loss: 0.0590 - val_loss: 0.0641\n",
            "Epoch 154/200\n",
            "3/3 [==============================] - 0s 19ms/step - loss: 0.0590 - val_loss: 0.0641\n",
            "Epoch 155/200\n",
            "3/3 [==============================] - 0s 21ms/step - loss: 0.0590 - val_loss: 0.0641\n",
            "Epoch 156/200\n",
            "3/3 [==============================] - 0s 20ms/step - loss: 0.0590 - val_loss: 0.0641\n",
            "Epoch 157/200\n",
            "3/3 [==============================] - 0s 21ms/step - loss: 0.0590 - val_loss: 0.0641\n",
            "Epoch 158/200\n",
            "3/3 [==============================] - 0s 26ms/step - loss: 0.0590 - val_loss: 0.0641\n",
            "Epoch 159/200\n",
            "3/3 [==============================] - 0s 23ms/step - loss: 0.0590 - val_loss: 0.0641\n",
            "Epoch 160/200\n",
            "3/3 [==============================] - 0s 19ms/step - loss: 0.0590 - val_loss: 0.0641\n",
            "Epoch 161/200\n",
            "3/3 [==============================] - 0s 21ms/step - loss: 0.0590 - val_loss: 0.0641\n",
            "Epoch 162/200\n",
            "3/3 [==============================] - 0s 20ms/step - loss: 0.0590 - val_loss: 0.0641\n",
            "Epoch 163/200\n",
            "3/3 [==============================] - 0s 20ms/step - loss: 0.0590 - val_loss: 0.0641\n",
            "Epoch 164/200\n",
            "3/3 [==============================] - 0s 21ms/step - loss: 0.0590 - val_loss: 0.0641\n",
            "Epoch 165/200\n",
            "3/3 [==============================] - 0s 23ms/step - loss: 0.0590 - val_loss: 0.0641\n",
            "Epoch 166/200\n",
            "3/3 [==============================] - 0s 21ms/step - loss: 0.0590 - val_loss: 0.0641\n",
            "Epoch 167/200\n",
            "3/3 [==============================] - 0s 19ms/step - loss: 0.0590 - val_loss: 0.0641\n",
            "Epoch 168/200\n",
            "3/3 [==============================] - 0s 30ms/step - loss: 0.0590 - val_loss: 0.0641\n",
            "Epoch 169/200\n",
            "3/3 [==============================] - 0s 25ms/step - loss: 0.0590 - val_loss: 0.0641\n",
            "Epoch 170/200\n",
            "3/3 [==============================] - 0s 21ms/step - loss: 0.0590 - val_loss: 0.0641\n",
            "Epoch 171/200\n",
            "3/3 [==============================] - 0s 20ms/step - loss: 0.0590 - val_loss: 0.0641\n",
            "Epoch 172/200\n",
            "3/3 [==============================] - 0s 20ms/step - loss: 0.0590 - val_loss: 0.0641\n",
            "Epoch 173/200\n",
            "3/3 [==============================] - 0s 20ms/step - loss: 0.0590 - val_loss: 0.0641\n",
            "Epoch 174/200\n",
            "3/3 [==============================] - 0s 22ms/step - loss: 0.0590 - val_loss: 0.0641\n",
            "Epoch 175/200\n",
            "3/3 [==============================] - 0s 23ms/step - loss: 0.0590 - val_loss: 0.0641\n",
            "Epoch 176/200\n",
            "3/3 [==============================] - 0s 19ms/step - loss: 0.0590 - val_loss: 0.0641\n",
            "Epoch 177/200\n",
            "3/3 [==============================] - 0s 21ms/step - loss: 0.0590 - val_loss: 0.0641\n",
            "Epoch 178/200\n",
            "3/3 [==============================] - 0s 20ms/step - loss: 0.0590 - val_loss: 0.0641\n",
            "Epoch 179/200\n",
            "3/3 [==============================] - 0s 22ms/step - loss: 0.0589 - val_loss: 0.0641\n",
            "Epoch 180/200\n",
            "3/3 [==============================] - 0s 23ms/step - loss: 0.0589 - val_loss: 0.0641\n",
            "Epoch 181/200\n",
            "3/3 [==============================] - 0s 31ms/step - loss: 0.0590 - val_loss: 0.0641\n",
            "Epoch 182/200\n",
            "3/3 [==============================] - 0s 20ms/step - loss: 0.0590 - val_loss: 0.0641\n",
            "Epoch 183/200\n",
            "3/3 [==============================] - 0s 21ms/step - loss: 0.0589 - val_loss: 0.0641\n",
            "Epoch 184/200\n",
            "3/3 [==============================] - 0s 20ms/step - loss: 0.0589 - val_loss: 0.0641\n",
            "Epoch 185/200\n",
            "3/3 [==============================] - 0s 24ms/step - loss: 0.0589 - val_loss: 0.0641\n",
            "Epoch 186/200\n",
            "3/3 [==============================] - 0s 27ms/step - loss: 0.0590 - val_loss: 0.0642\n",
            "Epoch 187/200\n",
            "3/3 [==============================] - 0s 23ms/step - loss: 0.0590 - val_loss: 0.0641\n",
            "Epoch 188/200\n",
            "3/3 [==============================] - 0s 25ms/step - loss: 0.0590 - val_loss: 0.0641\n",
            "Epoch 189/200\n",
            "3/3 [==============================] - 0s 23ms/step - loss: 0.0590 - val_loss: 0.0642\n",
            "Epoch 190/200\n",
            "3/3 [==============================] - 0s 25ms/step - loss: 0.0590 - val_loss: 0.0641\n",
            "Epoch 191/200\n",
            "3/3 [==============================] - 0s 22ms/step - loss: 0.0589 - val_loss: 0.0641\n",
            "Epoch 192/200\n",
            "3/3 [==============================] - 0s 23ms/step - loss: 0.0590 - val_loss: 0.0641\n",
            "Epoch 193/200\n",
            "3/3 [==============================] - 0s 25ms/step - loss: 0.0589 - val_loss: 0.0641\n",
            "Epoch 194/200\n",
            "3/3 [==============================] - 0s 23ms/step - loss: 0.0589 - val_loss: 0.0641\n",
            "Epoch 195/200\n",
            "3/3 [==============================] - 0s 24ms/step - loss: 0.0589 - val_loss: 0.0641\n",
            "Epoch 196/200\n",
            "3/3 [==============================] - 0s 23ms/step - loss: 0.0589 - val_loss: 0.0641\n",
            "Epoch 197/200\n",
            "3/3 [==============================] - 0s 26ms/step - loss: 0.0589 - val_loss: 0.0641\n",
            "Epoch 198/200\n",
            "3/3 [==============================] - 0s 32ms/step - loss: 0.0589 - val_loss: 0.0641\n",
            "Epoch 199/200\n",
            "3/3 [==============================] - 0s 24ms/step - loss: 0.0589 - val_loss: 0.0641\n",
            "Epoch 200/200\n",
            "3/3 [==============================] - 0s 26ms/step - loss: 0.0589 - val_loss: 0.0641\n"
          ]
        }
      ]
    },
    {
      "cell_type": "code",
      "source": [
        "#Plotting the evolution of training and validation loss\n",
        "plt.plot(history.history[\"loss\"], label=\"Training Loss\")\n",
        "plt.plot(history.history[\"val_loss\"], label=\"Validation Loss\")\n",
        "plt.legend()"
      ],
      "metadata": {
        "colab": {
          "base_uri": "https://localhost:8080/",
          "height": 282
        },
        "id": "E3CdaFBy8Hm7",
        "outputId": "abed551a-5707-4b40-9241-1656ec77dba1"
      },
      "execution_count": null,
      "outputs": [
        {
          "output_type": "execute_result",
          "data": {
            "text/plain": [
              "<matplotlib.legend.Legend at 0x7fa2335b8550>"
            ]
          },
          "metadata": {},
          "execution_count": 262
        },
        {
          "output_type": "display_data",
          "data": {
            "text/plain": [
              "<Figure size 432x288 with 1 Axes>"
            ],
            "image/png": "[encoded data removed]"
          },
          "metadata": {
            "needs_background": "light"
          }
        }
      ]
    },
    {
      "cell_type": "markdown",
      "source": [
        "The graph shows the _loss_ (or the difference between the model's predictions and the actual data) for each epoch. There are several ways to calculate loss, and the method we have used is _mean absolute error_. There is a distinct loss value given for the training and the validation data. As a rule of thumb for this metric, 10% or less is an acceptable value for loss function. If it is not, you might want to refine the inner layer or the epochs.\n",
        "\n",
        "\n",
        "Try varying the inner layer  to different values between 1 and 16 and see how the loss function changes due to the changes."
      ],
      "metadata": {
        "id": "8cWrvStJkfx3"
      }
    },
    {
      "cell_type": "code",
      "source": [
        "#@title Q2. What happen to the loss function graphs as you vary the neurons in the inner layer (Embedding size)?\n",
        "\n",
        "Q2 = '' #@param {type:\"string\"}\n",
        "\n",
        "print(Q2)"
      ],
      "metadata": {
        "colab": {
          "base_uri": "https://localhost:8080/"
        },
        "cellView": "form",
        "id": "g4mLat1XlBvd",
        "outputId": "20110744-fc6a-41f1-fa0c-5500c54a45cc"
      },
      "execution_count": null,
      "outputs": [
        {
          "output_type": "stream",
          "name": "stdout",
          "text": [
            "\n"
          ]
        }
      ]
    },
    {
      "cell_type": "markdown",
      "source": [
        "### ROC and AUC Metrics\n",
        "\n",
        "The Receiver Operating Characteristic (ROC) plots allows us to visualize the tradeoff between predicting anomalies as normal (false positives) and predicting normal data as an anomaly (false negative). Normal vibrations are labeled as `1` in this dataset but we have to flip them here to match the ROC curves expectations.\n",
        "\n",
        "The ROC plot now has threshold values plotted on their corresponding points on the curve to aid in selecting a theshold for the application."
      ],
      "metadata": {
        "id": "gfb-To4omGFS"
      }
    },
    {
      "cell_type": "code",
      "source": [
        "#Plotting True positive and false positive rate assessment\n",
        "reconstructions = autoencoder(test_data)\n",
        "loss = tf.keras.losses.mae(reconstructions, test_data)\n",
        "fpr = []\n",
        "tpr = []\n",
        "#the test labels are flipped to match how the roc_curve function expects them.\n",
        "flipped_labels = 1-test_labels \n",
        "fpr, tpr, thresholds = roc_curve(flipped_labels, loss)\n",
        "plt.figure()\n",
        "lw = 2\n",
        "plt.plot(fpr, tpr, color='darkorange',\n",
        "         lw=lw, label='ROC curve ')\n",
        "plt.plot([0, 1], [0, 1], color='navy', lw=lw, linestyle='--')\n",
        "plt.xlim([0.0, 1.0])\n",
        "plt.ylim([0.0, 1.05])\n",
        "plt.xlabel('False Positive Rate')\n",
        "plt.ylabel('True Positive Rate')\n",
        "plt.title('Receiver operating characteristic example')\n",
        "plt.legend(loc=\"lower right\")\n",
        "\n",
        "# plot some thresholds\n",
        "thresholds_every=20\n",
        "thresholdsLength = len(thresholds)\n",
        "colorMap=plt.get_cmap('jet', thresholdsLength)\n",
        "for i in range(0, thresholdsLength, thresholds_every):\n",
        "  threshold_value_with_max_four_decimals = str(thresholds[i])[:5]\n",
        "  plt.scatter(fpr[i], tpr[i], c='black')\n",
        "  plt.text(fpr[i] - 0.03, tpr[i] + 0.005, threshold_value_with_max_four_decimals, fontdict={'size': 15});\n",
        "\n",
        "plt.show()\n"
      ],
      "metadata": {
        "colab": {
          "base_uri": "https://localhost:8080/",
          "height": 295
        },
        "id": "F7qdNY9NdtND",
        "outputId": "7b90136d-9e68-471c-dde3-0dceeeb69834"
      },
      "execution_count": null,
      "outputs": [
        {
          "output_type": "display_data",
          "data": {
            "text/plain": [
              "<Figure size 432x288 with 1 Axes>"
            ],
            "image/png": "[encoded data removed]"
          },
          "metadata": {
            "needs_background": "light"
          }
        }
      ]
    },
    {
      "cell_type": "markdown",
      "source": [
        "To pick the threshold that would give us the high true positive rate (TPR) and low false positive rate (FPR) we look at the 'knee' of the curve.\n",
        "\n",
        "However, in some cases there may be an application constraint that requires a specific TPR or FPR, in which case we would have to move off of the 'knee' and sacrifice overall accuracy. In this case we might rather have false alarms than miss an abnormal vibration."
      ],
      "metadata": {
        "id": "qzfzC6PsmbpD"
      }
    },
    {
      "cell_type": "markdown",
      "source": [
        "Now that we understand how to visualize the impact of the selected threshold, we calculate the area under the ROC curve (AUC). \n",
        "\n",
        "This metric is very useful for evalutation of a specfic model design. Adjust the size of the encoding layer (EMBEDDING SIZE) in the autoencoder to maximize this metric."
      ],
      "metadata": {
        "id": "cJBJQvwenCh5"
      }
    },
    {
      "cell_type": "code",
      "source": [
        "\n",
        "roc_auc = auc(fpr, tpr)\n",
        "print(roc_auc)"
      ],
      "metadata": {
        "colab": {
          "base_uri": "https://localhost:8080/"
        },
        "id": "pywFkW8qd1EI",
        "outputId": "4c7de447-328e-4380-e9c5-52f4d967f8a5"
      },
      "execution_count": null,
      "outputs": [
        {
          "output_type": "stream",
          "name": "stdout",
          "text": [
            "0.9473281912306303\n"
          ]
        }
      ]
    },
    {
      "cell_type": "code",
      "source": [
        "#@title Q3. How does the ROC changes as you vary the neurons in the inner layer (Embedding size)?\n",
        "\n",
        "Q3 = '' #@param {type:\"string\"}\n",
        "\n",
        "print(Q3)"
      ],
      "metadata": {
        "colab": {
          "base_uri": "https://localhost:8080/"
        },
        "cellView": "form",
        "id": "EnjF3oXBnVAm",
        "outputId": "15a5dd61-4184-4208-bd7e-c9267eb0c57e"
      },
      "execution_count": null,
      "outputs": [
        {
          "output_type": "stream",
          "name": "stdout",
          "text": [
            "\n"
          ]
        }
      ]
    },
    {
      "cell_type": "markdown",
      "source": [
        "### Picking a Threshold to Detect Anomalies\n",
        "Detect anomalies by calculating whether the reconstruction loss is greater than a fixed threshold.\n",
        "\n",
        "Try to maximize the accuracy, precision, and recall. Think about the application and the consequences of a false positive and a false negative. \n",
        "\n",
        "Experiment by using different values (values labeled in black in the ROC graph) as a threshold below\n",
        "\n",
        "[More details on precision and recall](https://developers.google.com/machine-learning/crash-course/classification/precision-and-recall)"
      ],
      "metadata": {
        "id": "srxKGKptniiJ"
      }
    },
    {
      "cell_type": "code",
      "source": [
        "threshold =  #Assign a value labeled in black in the ROC graph  <-----------------------------------------------------------------------------\n",
        "print(\"Chosen Threshold: \", threshold)"
      ],
      "metadata": {
        "colab": {
          "base_uri": "https://localhost:8080/",
          "height": 130
        },
        "id": "718rpYPyd4QF",
        "outputId": "14090f5d-c11d-4476-fc29-b90c602d0a01"
      },
      "execution_count": null,
      "outputs": [
        {
          "output_type": "error",
          "ename": "SyntaxError",
          "evalue": "ignored",
          "traceback": [
            "\u001b[0;36m  File \u001b[0;32m\"<ipython-input-7-009bf9826794>\"\u001b[0;36m, line \u001b[0;32m1\u001b[0m\n\u001b[0;31m    threshold =  #Assign a value labeled in black in the ROC graph\u001b[0m\n\u001b[0m                                                                  ^\u001b[0m\n\u001b[0;31mSyntaxError\u001b[0m\u001b[0;31m:\u001b[0m invalid syntax\n"
          ]
        }
      ]
    },
    {
      "cell_type": "code",
      "source": [
        "def predict(model, data, threshold):\n",
        "  reconstructions = model(data)\n",
        "  loss = tf.keras.losses.mae(reconstructions, data)\n",
        "  return tf.math.less(loss, threshold), loss\n",
        "\n",
        "def print_stats(predictions, labels):\n",
        "  print(\"Accuracy = {}\".format(accuracy_score(labels, predictions)))\n",
        "  print(\"Precision = {}\".format(precision_score(labels, predictions)))\n",
        "  print(\"Recall = {}\".format(recall_score(labels, predictions)))"
      ],
      "metadata": {
        "id": "fr4F2R39d8-t"
      },
      "execution_count": null,
      "outputs": []
    },
    {
      "cell_type": "code",
      "source": [
        "preds, scores = predict(autoencoder, test_data, threshold)\n",
        "print_stats(preds, test_labels)"
      ],
      "metadata": {
        "colab": {
          "base_uri": "https://localhost:8080/"
        },
        "id": "RTVRj6Pad_QQ",
        "outputId": "7936e2f7-4c0a-4ffd-fc00-38386ce1aaae"
      },
      "execution_count": null,
      "outputs": [
        {
          "output_type": "stream",
          "name": "stdout",
          "text": [
            "Accuracy = 0.8416666666666667\n",
            "Precision = 0.9438202247191011\n",
            "Recall = 0.717948717948718\n"
          ]
        }
      ]
    },
    {
      "cell_type": "markdown",
      "source": [
        "For most anomaly detection problems, accuracy is not enough to assess the power of detection of the model. Accuracy alone does not tell the complete story i.e. how often does the model flag an vibration as abnormal when it is indeed abnormal (true positive), abnormal when it is normal (false positive) normal when it is abnormal (false negative) and normal when it is indeed normal (true negative). Two important metrics can be applied to address these issues - precision aand recall. \n",
        "\n",
        "Precision expresses the percentage of positive predictions that are correct and is calculated as (true positive / true positive + false positive ). \n",
        "\n",
        "Recall expresses the proportion of actual positives that were corrected predicted (true positive / true positive + false negative).\n",
        "\n",
        "Depending on the use case, it may be desirable to optimize a model's performance for high precision or high recall. This tradeoff between precision and recall can be adjusted by the selection of a threshold (e.g. a low enough threshold will yield excellent recall but reduced precision). In addition, the Receiver Operating Characteristics (ROC) curve provides a visual assessment of a model's skill (area under the curve - AUC) and is achieved by plotting the true positive rate against the false positive rate at various values of the threshold. "
      ],
      "metadata": {
        "id": "9mgAWHy4mGsa"
      }
    },
    {
      "cell_type": "code",
      "source": [
        "#@title Q4. Which threshold value provides the best metrics to refine the classification model? Explain why.\n",
        "\n",
        "Q4 = '' #@param {type:\"string\"}\n",
        "\n",
        "print(Q4)\n"
      ],
      "metadata": {
        "colab": {
          "base_uri": "https://localhost:8080/"
        },
        "cellView": "form",
        "id": "xkYP_LigoqkM",
        "outputId": "660a0e20-2804-45b9-ace5-14c92b33bbf0"
      },
      "execution_count": null,
      "outputs": [
        {
          "output_type": "stream",
          "name": "stdout",
          "text": [
            "\n"
          ]
        }
      ]
    },
    {
      "cell_type": "markdown",
      "source": [
        "Please continue to [Prelab 9.3 here](PL9_Colab3.ipynb).\n"
      ],
      "metadata": {
        "id": "YNA6mP4dwIGI"
      }
    }
  ]
}