{
  "nbformat": 4,
  "nbformat_minor": 0,
  "metadata": {
    "colab": {
      "name": "PL1_Colab2",
      "provenance": []
    },
    "kernelspec": {
      "name": "python3",
      "display_name": "Python 3"
    },
    "language_info": {
      "name": "python"
    }
  },
  "cells": [
    {
      "cell_type": "markdown",
      "source": [
        "#Prelab 1.2 Windows Software Installation"
      ],
      "metadata": {
        "id": "ikLS5a_tFlyS"
      }
    },
    {
      "cell_type": "markdown",
      "source": [
        "## 2.1 Prerequisite\n",
        "\n",
        "\n",
        "* Hardware and accessory\n",
        "\n",
        "  * Laptop\n",
        "    * Requirement: Windows OS (Windows 10 preferred), or Linux (Ubuntu)\n",
        "      * All lab manuals are written based on Windows 10. Even if you are using Linux, you can follow and perform \n",
        "lab activities.\n",
        "\n",
        "  * Raspberry Pi\n",
        "    * Requirement: Raspberry Pi 3 B+ 2 Gb or higher version (Raspberry Pi 4 2 Gb preferred) with the \n",
        "latest version of Rasberry Pi OS (Raspberry Pi OS 11 “Bullseye” with desktop, release \n",
        "date: Oct. 30, 2021, Kernel version: 5.10)\n",
        "    * Accessory: a power cable, micro SD card, an ethernet cable – RJ45, a USB-Ethernet converter\n",
        "      * The ethernet cable is for setting up at the first time (Lab 1) and for one-time use. If your laptop is not \n",
        "equipped with an ethernet port, you need a USB-Ethernet adapter with the ethernet cable.\n",
        "\n",
        "![picture](https://github.com/hewp84/tinyml/blob/main/img/PL1_Figure1.png?raw=true)\n",
        "\n",
        "*Figure 1 An ethernet cable (RJ45) (left) and a USB-ethernet adapter (right)*\n",
        "\n",
        "* Software and programming language\n",
        "  * Software\n",
        "    * We will mainly use Python as a main programming language. Python 3.7 or a higher version is \n",
        "needed for both your laptop and Raspberry Pi. But Python 3.9.3 is the default software of Raspberry \n",
        "Pi OS 11. Python 3.7 (or higher) with an IDE (Integrated Development Environment), such as IDLE, \n",
        "PyCharm, Spyder, Microsoft Visual Studio Code, and so on, should be installed on your laptop.\n",
        "    * PuTTY (https://www.putty.org/, available on Jan 6, 2022): PuTTY is an SSH (Secure Shell) and telnet \n",
        "client, developed by Simon Tatham for the Windows platform. It is open-source software. We will \n",
        "use PuTTY to remotely access Raspberry Pi from your laptop. Download and install PuTTY on your \n",
        "laptop.\n",
        "    * VNC Viewer (https://www.realvnc.com/en/connect/download/viewer/, available on Jan. 6, 2022): \n",
        "VNC Viewer is a VNC (Virtual Network Control) client, developed by RealVNC®. It is commercial \n",
        "software, but up to 5 clients are free. If you are not familiar with CLI (Command Line Interface), you \n",
        "will mainly use VNC Viewer to access Raspberry Pi. There are many VNC software such as \n",
        "TeamViewer, Remmina, TigerVNC, UltraVNC, AnyDesk, and so on. Because RealVNC server is a \n",
        "default software of Raspberry Pi Desktop OS, we will use VNC Viewer of RealVNC to access \n",
        "Raspberry Pi from your laptop. Download and install VNC Viewer on your laptop.\n",
        "    * (Optional) In the CLI of Raspberry Pi, we will use GNU nano editor (simply, nano) to create and \n",
        "modify text files, configuration files, and even codes. If you are a beginner, please try a tutorial on \n",
        "the Internet. However, detailed instructions when using nano will be described in the lab manuals.\n",
        "  * Programming language\n",
        "    * It is highly recommended to get familiar with CLI for Raspberry Pi, even if you are using VNC Viewer \n",
        "to access Raspberry Pi, you will frequently use ‘Terminal’. There is a command line tutorial on the \n",
        "Internet (https://www.circuitbasics.com/useful-raspberry-pi-commands/, available on Jan. 6, 2022). \n",
        "Try the tutorial and other practices available on the Internet. Throughout the lab, we will mostly use \n",
        "‘Terminal’ to run, install, manage, software and packages.\n",
        "    * If you are not familiar with Python, please try a Python tutorial available on the Internet\n",
        "\n",
        "IoT sensors, cables, and sample codes will be given in the lab and via Brightspace.\n"
      ],
      "metadata": {
        "id": "2uUGf1XLFuwV"
      }
    },
    {
      "cell_type": "markdown",
      "source": [
        "### Task 1: Self-check"
      ],
      "metadata": {
        "id": "L6wiU64VPoEX"
      }
    },
    {
      "cell_type": "markdown",
      "source": [
        "Check each of these boxes once you complete the installation or confirm that you have the required hardware or software. This is for you to confirm that you are ready to continue in the labs."
      ],
      "metadata": {
        "id": "fzuFQL12ynH2"
      }
    },
    {
      "cell_type": "code",
      "source": [
        "Access_to_Windows_or_Linux = False #@param {type:\"boolean\"}\n",
        "Raspberry_Pi = False #@param {type:\"boolean\"}\n",
        "Accessories = False #@param {type:\"boolean\"}\n",
        "\n",
        "PuTTY = False #@param {type:\"boolean\"}\n",
        "VNC_Viewer = False #@param {type:\"boolean\"}\n",
        "\n"
      ],
      "metadata": {
        "cellView": "form",
        "id": "j_6ykFYOPq1Q"
      },
      "execution_count": null,
      "outputs": []
    },
    {
      "cell_type": "markdown",
      "source": [
        "Please continue to [Prelab 1.3 here](PL1_Colab3.ipynb)."
      ],
      "metadata": {
        "id": "atjMFh4KAqhJ"
      }
    }
  ]
}