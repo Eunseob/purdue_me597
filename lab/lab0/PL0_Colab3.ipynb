{
  "nbformat": 4,
  "nbformat_minor": 0,
  "metadata": {
    "colab": {
      "name": "PL1_Colab3",
      "provenance": []
    },
    "kernelspec": {
      "name": "python3",
      "display_name": "Python 3"
    },
    "language_info": {
      "name": "python"
    }
  },
  "cells": [
    {
      "cell_type": "markdown",
      "source": [
        "# Prelab 1.3  Booting up the Raspberry Pi"
      ],
      "metadata": {
        "id": "G4yusW2oTNe2"
      }
    },
    {
      "cell_type": "markdown",
      "source": [
        "##Learning Goals\n",
        "\n",
        "Students will be able to:\n",
        "\n",
        "1.   Model the essential steps to setup a Raspberry Pi OS via a flow diagram.\n",
        "\n",
        "\n"
      ],
      "metadata": {
        "id": "QtA-xYTYTuyf"
      }
    },
    {
      "cell_type": "markdown",
      "source": [
        "## 3.1 Edge computer setup for headless access\n",
        "\n",
        "Raspberry Pi is a small and light edge computer. We will use Raspberry Pi as a headless system. A headless \n",
        "system is a device or computer system that can be operated without any physical interfaces like a monitor, \n",
        "keyboard, or mouse. As long as we have a network connection with Raspberry Pi, it is possible to access \n",
        "Raspberry Pi remotely at any time. Lab 1 is for preparing the headless setup and accessing Raspberry Pi via \n",
        "ethernet cable without physical interfaces. In Prelab 1, you will install Raspberry Pi OS and prepare the headless \n",
        "setup using the ethernet cable\n",
        "* For one who cannot use wireless internet, in Prelab 1, your Raspberry Pi does not need to be on the Internet\n",
        "\n",
        "\n",
        "### Install Raspberry Pi Desktop\n",
        "\n",
        "In order to use the Raspberry Pi, you need to make sure an operating system (OS) is installed on the Micro-SD card that will be inserted to the Raspberry Pi. Some of the Micro-SD cards that come with Raspberry Pi kits have the OS pre-installed. However, the following steps outline how to install the Raspberry PI OS if you are using a blank/fresh SD card. \n",
        "\n",
        "Connect your Micro-SD card to your laptop via any methods available to you. To install Raspberry Pi OS in the micro-SD, you may use Raspberry Pi Imager (https://www.raspberrypi.com/software/, available in Jan. 6, 2022). When the SD card is connected to your laptop, you can format the card in the Raspberry Pi Imager. With the Imager open, click \"Choose OS\" and select Raspberry Pi OS 10 (“Buster”). To do so, click ‘Raspberry Pi OS (others)’ and then choose ‘Raspberry Pi OS (Legacy)’ as shown in Figure 5 and Figure 6, respectively.\n",
        "\n",
        "![picture](https://github.com/hewp84/tinyml/blob/main/img/PL1_Figure4.png?raw=true)\n",
        "\n",
        "*Figure 4 Capture of Raspberry Pi Imager download page at (https://www.raspberrypi.com/software/)*\n",
        "\n",
        "![picture](https://github.com/hewp84/tinyml/blob/main/img/PL1_Figure5.png?raw=true)\n",
        "\n",
        "*Figure 5 Click Raspberry Pi OS (other) in Operating System in Raspberry Pi Imager*\n",
        "\n",
        "![picture](https://github.com/hewp84/tinyml/blob/main/img/PL1_Figure6.png?raw=true)\n",
        "\n",
        "*Figure 6 Choose Raspberry Pi OS (Legacy) as Operating System*\n",
        "\n",
        "Then, in the Imager, if you click \"Choose Storage\" you select the SD card that you are using. When you click \"Write,\" the process will begin to clean the SD card of any previous content, and install the OS on the card. \n",
        "\n",
        "Once that process is done, remove the SD card from your laptop and insert it into your Raspberry Pi. Connect your Raspberry Pi to a monitor with an HDMI cord, keyboard, and mouse, and plug in your Raspberry Pi to turn it on (there is no \"on\" button). The Raspberry Pi should begin to boot up. **If you don't see anything happening (no signal on the monitor), then you may need to start troubleshooting steps. Please find troubleshooting at the end of this notebook.**\n",
        "\n",
        "Once the Raspberry Pi is working and you can use it with your keyboard and mouse, do basic setup such as ‘Country’, ‘Language’, ‘Timezone’, ‘Password’ and so on. If you are having trouble with setting up, please follow the Beginners Guide to Installing Raspberry Pi OS (https://medium.com/@mkmety/beginners-guide-to-installing-raspberry-pi-os-on-a\u0002raspberry-pi-6d437ce2f54b, available on Jan. 6, 2022). After rebooting Raspberry Pi, you will see the screen like Figure 7. Task bar icons are described in Figure 8.\n",
        "\n",
        "![picture](https://github.com/hewp84/tinyml/blob/main/img/PL1_Figure7.png?raw=true)\n",
        "\n",
        "*Figure 7 Main screen of Raspberry Pi Desktop*\n",
        "\n",
        "![picture](https://github.com/hewp84/tinyml/blob/main/img/PL1_Figure8.png?raw=true)\n",
        "\n",
        "*Figure 8 Task bar icon*\n",
        "\n"
      ],
      "metadata": {
        "id": "azo8pm7qTSYe"
      }
    },
    {
      "cell_type": "markdown",
      "source": [
        "### Troubleshooting (optional)\n",
        "\n",
        "If you see \"No Signal\" on your monitor when your Pi is on, a few things may be the cause. Below will detail, \n",
        "1. The operating system is not installed correctly and therefore cannot display anything on the monitor\n",
        "2. The Pi is not *able* to output anything to the monitor because of incompatible technology. But, we can change this.\n",
        "\n",
        "We will begin to troubleshoot possibility 2.\n",
        "\n",
        "Insert the SD card (with the OS installed) into your laptop. If you open the SD card in your file system, you will see a \"config.txt\" file. Open this \"config.txt\" file with a text editor, such as Notepad or Notepad++, then add the following line at the bottom of the file.\n",
        "\n",
        "`hdmi_safe=1`\n",
        "\n",
        "Save the file, close it, and eject the SD card from your laptop. Insert it back into your Raspberry Pi and see if the monitor now displays image.\n",
        "\n",
        "If this does not fix your issue, you can troubleshoot with help from this guide: https://elinux.org/R-Pi_Troubleshooting (available Jun 8. 2022). "
      ],
      "metadata": {
        "id": "tlXNzTdaYPFN"
      }
    },
    {
      "cell_type": "markdown",
      "source": [
        "### Task 3.1\n",
        "\n",
        "Please provide a response to the following prompts.\n",
        "\n",
        "1. Answer the following question:"
      ],
      "metadata": {
        "id": "2TcgbaSBy2Mr"
      }
    },
    {
      "cell_type": "code",
      "source": [
        "#@title What issues did you encounter as you setup Raspberry Pi OS? How did you solve them?\n",
        "\n",
        "Text = '' #@param {type:\"string\"}\n",
        "\n",
        "print(Text)\n"
      ],
      "metadata": {
        "colab": {
          "base_uri": "https://localhost:8080/"
        },
        "cellView": "form",
        "id": "OaBqN61p7qiu",
        "outputId": "4378246b-02c2-440b-8c8d-b830f38a5a6d"
      },
      "execution_count": null,
      "outputs": [
        {
          "output_type": "stream",
          "name": "stdout",
          "text": [
            "\n"
          ]
        }
      ]
    },
    {
      "cell_type": "markdown",
      "source": [
        "Please continue to [Prelab 1.4 here](PL1_Colab4.ipynb)."
      ],
      "metadata": {
        "id": "uUc7phLW2ArQ"
      }
    }
  ]
}