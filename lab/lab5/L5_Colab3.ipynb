{
  "nbformat": 4,
  "nbformat_minor": 0,
  "metadata": {
    "colab": {
      "name": "L6_Colab3",
      "provenance": []
    },
    "kernelspec": {
      "name": "python3",
      "display_name": "Python 3"
    },
    "language_info": {
      "name": "python"
    }
  },
  "cells": [
    {
      "cell_type": "markdown",
      "source": [
        "# Lab 6.3 MTConnect Client Application"
      ],
      "metadata": {
        "id": "8KGhtAxy2VHD"
      }
    },
    {
      "cell_type": "markdown",
      "source": [
        "## 3.1 '?' query and XPath example\n",
        "\n",
        "\n",
        "In the previous lab, we learned the basic usage of HTTP request (data collection method). By using ‘?’ query and XPath, you can request specific data in many senses. Some examples of ‘?’ queries and XPath of MTConnect are below. Here are example HTTP requests but you need to change the IP address and/or port number. \n",
        "* ?from=\n",
        "  * It specifies the starting sequence number of the agent\n",
        "  * Ex) http://127.0.0.1:5000/sample?from=1000 \n",
        "    * This example requests the agent data from the sequence number 1000. \n",
        "    * Default starting sequence is the first sequence of the agent. \n",
        "* ?count=\n",
        "  * It specifies how many sequences you want to request from the agent. \n",
        "  * Ex) http://127.0.0.1:5000/sample?count=2000 \n",
        "    * This example requests 2000 count of data from the agent. \n",
        "    * Default amount of data of ‘sample’ method is 100. \n",
        "* ?path=\n",
        "  * It specifies XPath (XML document path). \n",
        "  * The value for the XPath is the location of the information defined in the Device Information model that represents the Structural Elements. \n",
        "  * MTConnect observes standard XPath. \n",
        "  * Ex1) http://127.0.0.1:5000/current?path=//DataItem[@id=”a1”]\n",
        "    * This example requests the last data of “a1” data item. \n",
        "    * Because this example is ‘current’ request, you will get only one (the last) data. \n",
        "  * Ex2) http://127.0.0.1:5000/current?path=//DataItem[@type=”ACCELERATION”]\n",
        "    * This example requests data that each type is “ACCELERATION”. \n",
        "    * By using this, you can request only acceleration data. \n",
        "    * The last value of each acceleration will be responded to. \n",
        "* Merge ‘?’ queries using ‘&’. \n",
        "  * It is possible to merge ‘?’ queries using ‘&’ between queries, the example is below. \n",
        "  * Ex) http://127.0.0.1:5000/sample?from=123&count=234&path=//DataItem[@id=”a1”] \n",
        "\n",
        "\n",
        "\n",
        "\n"
      ],
      "metadata": {
        "id": "ZpiiRUow5Or6"
      }
    },
    {
      "cell_type": "markdown",
      "source": [
        "### Task 3.1\n",
        "\n",
        "1.\tRequest temperature and humidity data (from the sequence number 100 and count 20 amount) to MTConnect agent \n",
        "  * Make sure that MTConnect agent and all MTConnect adapters are still running. \n",
        "  * Hint:\n",
        "       * You need to use “OR” operator because each element cannot have both temperature and humidity. \n",
        "       * “OR” operator of XPath is “|”. \n",
        "2.\tCapture the responded web browser as and attach it to the report below:\n",
        "\n",
        "  ---\n",
        "\n",
        "  Place your screenshot here.\n",
        "\n",
        "  ---\n",
        "\n",
        "\n",
        "![picture](https://github.com/hewp84/tinyml/blob/main/img/L6_Figure12.png?raw=true)\n",
        "\n",
        "*Figure 12 Capture example for Task 3.1*\n",
        "\n"
      ],
      "metadata": {
        "id": "-rsYgk0-5kvE"
      }
    },
    {
      "cell_type": "code",
      "source": [
        "#@markdown #### Write your HTTP request in the free-form text section below, e.g., http://192.168.1.2:5000/sample?from=100&count=20&path=somthing \n",
        "\n",
        "T1 = '' #@param {type:\"string\",display-mode:\"form\"}"
      ],
      "metadata": {
        "cellView": "form",
        "id": "f-Ep_BBIEz7b"
      },
      "execution_count": null,
      "outputs": []
    },
    {
      "cell_type": "code",
      "source": [
        "#@title Task 3.2 What are the cons and pros of two MTConnect configurations (a single adapter vs. multiple adapters) to collect multiple sensors’ data? {display-mode:\"form\"}\n",
        "T2_1 = '' #@param {type:\"string\"}"
      ],
      "metadata": {
        "id": "7WMXtIBCF4H_"
      },
      "execution_count": null,
      "outputs": []
    },
    {
      "cell_type": "markdown",
      "source": [
        "\n",
        "\n",
        "### Task 3.3\n",
        "Perform Python XML parsing described below by loading the XML document (‘Lab6_TASK5.xml’) you saved in Task 1.6 and then attach the entire Python script to the report in the code block below. (Perform all in a single script.)\n",
        "  \n",
        "1. Print out ‘sender’, ‘firstSequence’, ‘nextSequence’, and ‘lastSequence’.\n",
        "  \n",
        "2. Print out each data element’s ‘name’, ‘timestamp’, and ‘value (or text)’ \n",
        "\t\n",
        "3. Capture the result and then attach it to the report below:\n",
        "    * Hint: Use ElementTree XML API of Python (available on Feb. 24, https://docs.python.org/3/library/xml.etree.elementtree.html) \n",
        "\n",
        "    ---\n",
        "\n",
        "    Place your screenshot here.\n",
        "\n",
        "    ---"
      ],
      "metadata": {
        "id": "n2ttQnscF7Lz"
      }
    },
    {
      "cell_type": "code",
      "source": [
        "# Place your code here:\n",
        "#\n",
        "\n",
        "\n",
        "#"
      ],
      "metadata": {
        "id": "AAV38ZxPGJa8"
      },
      "execution_count": null,
      "outputs": []
    },
    {
      "cell_type": "markdown",
      "source": [
        "### Task 3.4\n",
        "\n",
        "1.\tModel Unit 6 (prelab + lab) by creating a flow diagram that illustrates the logic, sequence, and processes of the unit.\n",
        "\n",
        "---\n",
        "\n",
        "Place URL here\n",
        "\n",
        "---\n",
        "\n"
      ],
      "metadata": {
        "id": "fVYfMc7mGONv"
      }
    }
  ]
}