{
  "nbformat": 4,
  "nbformat_minor": 0,
  "metadata": {
    "colab": {
      "name": "L10_Colab4",
      "provenance": []
    },
    "kernelspec": {
      "name": "python3",
      "display_name": "Python 3"
    },
    "language_info": {
      "name": "python"
    }
  },
  "cells": [
    {
      "cell_type": "markdown",
      "source": [
        "# Lab 10.4 Machine Learning 2 - Machine Learning Implementation to Edge Device\n",
        "\n",
        "# Working With MySQL Database\n"
      ],
      "metadata": {
        "id": "sNS-4d1yPhfW"
      }
    },
    {
      "cell_type": "markdown",
      "source": [
        "## 4.1 MySQL Database\n",
        "\n",
        "Let’s shift gears to the data aggregation for the MySQL database. Recall Lab7 and Lab8 for this part. The information of the MySQL server and database is below. \n",
        "* DNS: me597server1.ecn.purdue.edu \n",
        "* Port: 3306 \n",
        "* Account: yourname (e.g., johndoe) \n",
        "* Database: ME597Spring22 \n",
        "* Table: yourname_lab7 (e.g., johndoe_lab7) \n",
        "\n",
        "The data collector Python script (‘mtconnect_collector.py’ on Brightspace) using XML parsing is prepared for you as Lab8. Perform Task 4.1 to collect all data stream from the MTConnect agent. "
      ],
      "metadata": {
        "id": "LWnyGllqPqar"
      }
    },
    {
      "cell_type": "markdown",
      "source": [
        "### Task 4.1\n",
        "\n",
        "1.\tRun the sample data collector Python script (‘mtconnect_collecor.py’) on either laptop or Raspberry Pi to store all data stream from the MTConnect agent. \n",
        "\n",
        "  a. You need to modify some front parts that are wrapped in asteriks below. \n",
        "2.\tCheck if data is being stored using ‘MySQL Workbench’ on laptop.  \n",
        "\n",
        "\n",
        "---\n",
        "\n",
        "**Python - Python3 ('mtconnect_collector.py')**\n",
        "\n",
        "```\n",
        "# Credential\n",
        "HOST = 'MySQL HOST DNS' # MySQL server host DNS\n",
        "PORT = 3306 # MySQL server port number\n",
        "USER = 'your account' # MySQL account name\n",
        "PASSWORD = 'your password' # Password of the account\n",
        "DB = 'Database name' # DB name\n",
        "TABLE = 'your table name' # table name\n",
        "## Credential\n",
        "\n",
        "## MTConnect info.\n",
        "agent = \"agent host\"\n",
        "agent_port = \"agent port number\"\n",
        "url_current = \"http://\"+agent+\":\"+agent_port+\"/current\"\n",
        "MTCONNECT_STR = ET.fromstring(requests.get(url_current).content).tag.split(\"}\")[0]+\"}\"\n",
        "print(\"MTConnect string header is {}.\".format(MTCONNECT_STR))\n",
        "## MTConnect info\n",
        "\n",
        "```\n",
        "\n",
        "---\n",
        "\n",
        "![picture](https://github.com/hewp84/tinyml/blob/main/img/L10_Figure12.png?raw=true)\n",
        "\n",
        "*Figure 12 Result grid of stored data in MySQL workbench*"
      ],
      "metadata": {
        "id": "3FAbX7z5P2lU"
      }
    },
    {
      "cell_type": "markdown",
      "source": [
        "### Task 4.2 \n",
        "\n",
        "Capture the result grid as Figure 12 and then attach it to the report. \n",
        "\n",
        "---\n",
        "\n",
        "Place your screenshot here.\n",
        "\n",
        "---"
      ],
      "metadata": {
        "id": "tiO6M4QH7hzO"
      }
    },
    {
      "cell_type": "markdown",
      "source": [
        "## 4.2 MySQL Database #2\n",
        "\n",
        "Finally, let’s create a web-based dashboard using Grafana. Recall Lab8 activities. The information of the \n",
        "Grafana server domain and the port number is below. Log in the Grafana server in a web-browser of laptop. \n",
        "\n",
        "* DNS: me597server1.ecn.purdue.edu \n",
        "* Port: 3000 \n",
        "* Grafana web page URL: http://me597server1.ecn.purdue.edu:3000/ \n",
        "* Account (username): yourname (e.g., johndoe) \n",
        "\n",
        "Go to ‘*Lab10 sample*’ dashboard in ‘*0_SAMPLE*’ dashboard folder. This dashboard (Figure 13) is what you should finally create. \n",
        "\n",
        "![picture](https://github.com/hewp84/tinyml/blob/main/img/L10_Figure13.jpg?raw=true)\n",
        "\n",
        "*Figure 13 Sample Grafana dashboard (0_SAMPLE/Lab10 sample)*\n"
      ],
      "metadata": {
        "id": "VF8HMDjIP9AR"
      }
    },
    {
      "cell_type": "markdown",
      "source": [
        "### Task 4.3\n",
        "\n",
        "Create a dashboard as Figure 13 in your folder created in Lab 8 and save it as the dashboard name of ‘lab10 your name’, e.g., ‘lab10 john doe’. \n",
        "\n",
        "\n",
        "\n"
      ],
      "metadata": {
        "id": "no1egfyiQG3N"
      }
    },
    {
      "cell_type": "markdown",
      "source": [
        "### Task 4.4\n",
        "Capture the dashboard and attach it to the report. \n",
        "\n",
        "---\n",
        "\n",
        "Place your screenshot here.\n",
        "\n",
        "---"
      ],
      "metadata": {
        "id": "OECVXddt7bCV"
      }
    },
    {
      "cell_type": "markdown",
      "source": [
        "### Task 4.5\n",
        "\n",
        "After creating the dashboard, confirm if the entire monitoring system works in real-time by refreshing the dashboard. \n"
      ],
      "metadata": {
        "id": "q8ohAXaA7ZLg"
      }
    },
    {
      "cell_type": "markdown",
      "source": [
        "## Task 4.6\n",
        "\n",
        "Model Unit 10 (prelab + lab) by creating a flow diagram that illustrates the logic, sequence, and processes of the unit.\n",
        "\n",
        "---\n",
        "\n",
        "Place URL here.\n",
        "\n",
        "---\n"
      ],
      "metadata": {
        "id": "Yyk4JOTNQJ1D"
      }
    }
  ]
}