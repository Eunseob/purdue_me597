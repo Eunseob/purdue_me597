{
  "nbformat": 4,
  "nbformat_minor": 0,
  "metadata": {
    "colab": {
      "name": "L10_Appendix",
      "provenance": []
    },
    "kernelspec": {
      "name": "python3",
      "display_name": "Python 3"
    },
    "language_info": {
      "name": "python"
    }
  },
  "cells": [
    {
      "cell_type": "markdown",
      "source": [
        "# Lab 10.5 Appendix\n"
      ],
      "metadata": {
        "id": "sNS-4d1yPhfW"
      }
    },
    {
      "cell_type": "markdown",
      "source": [
        "<br></br>\n",
        "\n",
        "---\n",
        "\n",
        "## Appendix\n",
        "\n",
        "---\n",
        "\n",
        "![picture](https://github.com/hewp84/tinyml/blob/main/img/L10_FigureA1.jpg?raw=true)\n",
        "\n",
        "*Figure A. 1 Hardware configuration of ADXL345 sensor and AFF*\n",
        "\n",
        "![picture](https://github.com/hewp84/tinyml/blob/main/img/L10_FigureA2.jpg?raw=true)\n",
        "\n",
        "*Figure A. 2 Acceleration data when AFF is STOPPED: time domain (left) and frequency domain (right)*\n",
        "\n",
        "![picture](https://github.com/hewp84/tinyml/blob/main/img/L10_FigureA3.jpg?raw=true)\n",
        "\n",
        "*Figure A. 3 Acceleration data when AFF is running in normal with 1800 rpm: time domain (left) and frequency domain (right)*\n",
        "\n",
        "![picture](https://github.com/hewp84/tinyml/blob/main/img/L10_FigureA4.jpg?raw=true)\n",
        "\n",
        "*Figure A. 4 Acceleration data when AFF is running in normal with 2150 rpm: time domain (left) and frequency domain (right)*\n",
        "\n",
        "![picture](https://github.com/hewp84/tinyml/blob/main/img/L10_FigureA5.jpg?raw=true)\n",
        "\n",
        "*Figure A. 5 Acceleration data when AFF is running in normal with 2500 rpm: time domain (left) and frequency domain (right)*\n",
        "\n",
        "![picture](https://github.com/hewp84/tinyml/blob/main/img/L10_FigureA6.jpg?raw=true)\n",
        "\n",
        "*Figure A. 6 Acceleration data when AFF is running in normal with 2750 rpm: time domain (left) and frequency domain (right)*\n",
        "\n",
        "![picture](https://github.com/hewp84/tinyml/blob/main/img/L10_FigureA7.jpg?raw=true)\n",
        "\n",
        "*Figure A. 7 Acceleration data when AFF is running in normal with 3000 rpm: time domain (left) and frequency domain (right)*\n",
        "\n",
        "![picture](https://github.com/hewp84/tinyml/blob/main/img/L10_FigureA8.jpg?raw=true)\n",
        "\n",
        "*Figure A. 8 Acceleration data when AFF is running in abnormal with 1800 rpm: time domain (left) and frequency domain (right)*\n",
        "\n",
        "![picture](https://github.com/hewp84/tinyml/blob/main/img/L10_FigureA9.jpg?raw=true)\n",
        "\n",
        "*Figure A. 9 Acceleration data when AFF is running in abnormal with 2150 rpm: time domain (left) and frequency domain (right)*\n",
        "\n",
        "![picture](https://github.com/hewp84/tinyml/blob/main/img/L10_Figure10.jpg?raw=true)\n",
        "\n",
        "*Figure A. 10 Acceleration data when AFF is running in abnormal with 2500 rpm: time domain (left) and frequency domain (right)*\n",
        "\n",
        "![picture](https://github.com/hewp84/tinyml/blob/main/img/L10_FigureA11.jpg?raw=true)\n",
        "\n",
        "*Figure A. 11 Acceleration data when AFF is running in abnormal with 2750 rpm: time domain (left) and frequency domain (right)*\n",
        "\n",
        "![picture](https://github.com/hewp84/tinyml/blob/main/img/L10_FigureA12.jpg?raw=true)\n",
        "\n",
        "Figure A. 12 Acceleration data when AFF is running in abnormal with 3000 rpm: time domain (left) and frequency domain (right)*\n",
        "\n",
        "\n",
        "\n",
        "\n",
        "\n",
        "\n"
      ],
      "metadata": {
        "id": "Oj0DSfElQcoA"
      }
    }
  ]
}