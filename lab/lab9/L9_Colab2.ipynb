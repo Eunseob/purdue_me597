{
  "nbformat": 4,
  "nbformat_minor": 0,
  "metadata": {
    "colab": {
      "name": "L10_Colab2",
      "provenance": []
    },
    "kernelspec": {
      "name": "python3",
      "display_name": "Python 3"
    },
    "language_info": {
      "name": "python"
    }
  },
  "cells": [
    {
      "cell_type": "markdown",
      "source": [
        "# Lab 10.2 Machine Learning 2 - Machine Learning Implementation to Edge Device\n",
        "\n",
        "# TensorFlow implementation to Raspberry Pi"
      ],
      "metadata": {
        "id": "L_Xw9pQeNMOf"
      }
    },
    {
      "cell_type": "markdown",
      "source": [
        "## 2.1 Load and Run TensorFlow Model\n",
        "\n",
        "To implement the TensorFlow model which you developed and finally is selected in Lab 9 to Raspberry Pi, please follow the steps below. Please note that all required functions and the basic structure of the script are prepared in ‘lab10_ML_implementation.py’ on Brightspace. \n",
        "1.\tCreate a working directory on Raspberry Pi. \n",
        "2.\tCopy and paste ‘/model’ directory from laptop to the created directory of Raspberry Pi. \n",
        "3.\tCopy and paste ‘lab10_ML_implementation.py’ to the same directory of Raspberry Pi as below. \n",
        "  \n",
        "  ![picture](https://github.com/hewp84/tinyml/blob/main/img/L10_Image1.png?raw=true)\n",
        "\n",
        "  Perform Task 2.1 to get the prediction result from the model and Task 2.2 to complete the algorithm (Figure 2). \n"
      ],
      "metadata": {
        "id": "7lOqsGn7NYdb"
      }
    },
    {
      "cell_type": "markdown",
      "source": [
        "### Task 2.1\n",
        "\n",
        "1.\tOpen ‘lab10_ML_implementation.py’ and then modify it according to your ML model requirements \n",
        "\n",
        "  a.\tYou need to modify variables surrounded by asteriks in the part of the code below. E.g., `*example_var* = /sample/dir/` -> `example_var = /real/dir/`.\n",
        "\n",
        "2.\tRun the modified code, capture ‘Terminal’ or ‘Thonny Shell’ as Figure 5 and then attach it to the report. \n",
        "\n",
        "  a.\tBy turning the AFF on and off repeatedly, confirm if your model works well. \n",
        "\n",
        "  ---\n",
        "\n",
        "  Place your screenshot here\n",
        "\n",
        "  ---\n",
        "\n",
        "---\n",
        "\n",
        "**Python - Python3 (\"Main\" of 'lab10_ML_implementation.py')**\n",
        "\n",
        "```\n",
        "if __name__ == \"__main__\":\n",
        "    *model_path* = \"model/YourModelDirectory/\" # model file directory, you must change this!\n",
        "    model = tf.keras.models.load_model(model_path) # load the model from the path above\n",
        "    *threshold* = # threshold (MAE loss) for the ML model\n",
        "    *min_val* = # minimum value for normalization\n",
        "    *max_val* = # maximum value for normalization\n",
        "\n",
        "    while True:\n",
        "        try:\n",
        "            x, y, z = measureData(acc, 1000) # x=x-axis, y=y-axis, z-axis acceleration array\n",
        "            *input_feature* = # your input feature\n",
        "            input_feature_normalized = tensorNormalization(input_feature, min_val, max_val) # normalized input feature\n",
        "            result = predict(model, *FINAL_FEATURE_INPUT*, threshold) # your model result: bool: True or False\n",
        "            now = datetime.datetime.now() # datetime now\n",
        "            print(\"{0}:Model result={1}, MAE loss={2:.4f}.\".format(now, result[0], result[1]))\n",
        "        except KeyboardInterrupt:\n",
        "            # to halt, press Ctrl + c\n",
        "            raise\n",
        "\n",
        "```\n",
        "\n",
        "---\n",
        "\n",
        "![picture](https://github.com/hewp84/tinyml/blob/main/img/L10_Figure5.png?raw=true)\n",
        "\n",
        "*Figure 5 The result of the ML model by TASK 3: ‘Terminal’ (left) and ‘Thonny’ (right)*\n",
        "\n"
      ],
      "metadata": {
        "id": "TdwupOikNzbb"
      }
    },
    {
      "cell_type": "code",
      "source": [
        "#@title Task 2.2 Answer to the questions below regarding Task 2.1 above: {display-mode:\"form\"}\n",
        "\n",
        "#@markdown #### 1. Does the model work as expected? \n",
        "T2_1 = '' #@param {type:\"string\"}\n",
        "\n",
        "#@markdown #### 2. What does the result of the model mean? \n",
        "T2_2 = '' #@param {type:\"string\"}\n",
        "\n",
        "#@markdown #### 3. When the AFF stop, what is the result of the model? \n",
        "T2_3 = '' #@param {type:\"string\"}\n"
      ],
      "metadata": {
        "id": "LwVA0bSy04PF"
      },
      "execution_count": null,
      "outputs": []
    },
    {
      "cell_type": "markdown",
      "source": [
        "#### Task 2.2\n",
        "\n",
        "1. To complete algorithm as Figure 2, modify the code (‘lab10_ML_implementation.py’) after performing \n",
        "Task 1.1, Task 1.3, and Task 2.1.\n",
        "\n",
        "  a. When the AFF is running, the execution must be ‘ACTIVE’.\n",
        "\n",
        "  b. When the AFF is running without the attached putty, the condition must be ‘NORMAL’.\n",
        "\n",
        "  c. When the AFF is running with attached putty, the condition must be ‘ABNORMAL’.\n",
        "\n",
        "  d. When the AFF is NOT running, the execution and the condition must be ‘STOPPED’ and ‘UNAVAILABLE’, respectively.\n",
        "\n",
        "  e. Please note that the algorithm can be expressed as below:\n",
        "\n",
        "```\n",
        "if AFF is running:\n",
        "  execution = 'ACTIVE'\n",
        "  if AFF is normal:\n",
        "    condition = 'NORMAL'\n",
        "  else:\n",
        "    condition = 'ABNORMAL'\n",
        "else:\n",
        "  execution = 'STOPPED'\n",
        "  condition = 'UNAVAILABLE'\n",
        "\n",
        "```\n",
        "\n",
        "2. The example result is shown in Figure 6.\n",
        "\n",
        "  a. If you are not sure about how to determine the execution, review Task 1.1.\n",
        "\n",
        "\n",
        "![picture](https://github.com/hewp84/tinyml/blob/main/img/L10_Figure6.png?raw=true)\n",
        "\n",
        "*Figure 6 The result of algorithm by TASK4: ‘Terminal’ (left) and ‘Thonny’ (right)*"
      ],
      "metadata": {
        "id": "x8CiHgsoN7pK"
      }
    },
    {
      "cell_type": "markdown",
      "source": [
        "### Task 2.3 \n",
        "Attach both the capture of the result and the entire modified script to the report.\n",
        "\n",
        "---\n",
        "\n",
        "Place your screenshot here.\n",
        "\n",
        "---\n"
      ],
      "metadata": {
        "id": "P6Y0Gz8j2bHf"
      }
    },
    {
      "cell_type": "code",
      "source": [
        "#@title Task 2.4 Do your model and algorithm work as expected? Try change the running states (executions) and conditions. {display-mode:\"form\"}\n",
        "\n",
        "#@markdown * If yes, please explain your test setup and the results.\n",
        "\n",
        "#@markdown * If not, please explain the possible reasons and how to make it work.\n",
        "\n",
        "T4_1 = '' #@param {type:\"string\"}"
      ],
      "metadata": {
        "id": "Dq70e5-a2ty7"
      },
      "execution_count": null,
      "outputs": []
    },
    {
      "cell_type": "markdown",
      "source": [
        "Please continue to [Lab 10.3 here](L10_Colab3.ipynb)."
      ],
      "metadata": {
        "id": "n4JglrimN--z"
      }
    }
  ]
}