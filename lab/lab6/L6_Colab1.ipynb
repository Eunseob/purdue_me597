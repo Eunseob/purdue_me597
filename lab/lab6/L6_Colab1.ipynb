{
  "nbformat": 4,
  "nbformat_minor": 0,
  "metadata": {
    "colab": {
      "name": "L7_Colab1",
      "provenance": []
    },
    "kernelspec": {
      "name": "python3",
      "display_name": "Python 3"
    },
    "language_info": {
      "name": "python"
    }
  },
  "cells": [
    {
      "cell_type": "markdown",
      "source": [
        "# Lab 7.1 Database & Visualization - MySQL Hands-on Activities"
      ],
      "metadata": {
        "id": "_lmA5oqqnOem"
      }
    },
    {
      "cell_type": "markdown",
      "source": [
        "## Learning Goals\n",
        "\n",
        "Students will be able to:\n",
        "\n",
        "1. Utilize MySQL workbench to create a database table.\n",
        "2. Write SQL statements to modify, edit, and extract data from a table\n",
        "3. "
      ],
      "metadata": {
        "id": "tmjkArb1nVZu"
      }
    },
    {
      "cell_type": "markdown",
      "source": [
        "## 1.1 Introduction\n",
        "\n",
        "The topic of Lab7 is SQL database. We will practice using SQL database, specifically MySQL, to collect IIoT data in this lab. Please note that even if SQL is the relational database, we won’t go on a relational database structure because it is out of the scope of this course. In this lab, however, you will learn the basic syntax of SQL and Python programming to aggregate sensor data to MySQL database. Through hands-on activities, you will perform 1) creating a database table, 2) inserting data to the table using SQL, and 3) Python programming to collect data to the database. At the end of this lab, you will make your Raspberry Pi transmit data from sensors (DHT11 and ADXL345) to the database. To focus on SQL in this lab, let’s set aside the use of MTConnect. "
      ],
      "metadata": {
        "id": "5rRm4HkAnTFQ"
      }
    },
    {
      "cell_type": "markdown",
      "source": [
        "## 1.2 Creating a database table\n",
        "\n",
        "\n",
        "Let’s start with creating a database table to store data on MySQL server. The MySQL server domain and the port number information for this lab are below. \n",
        "* DNS: me597server1.ecn.purdue.edu \n",
        "* Port: 3306 \n",
        "\n",
        "The TA made an account for each of you. The account name rule is your ‘firstnamelastname’ based on \n",
        "Brightspace, e.g., John Doe’s account name for ME597 MySQL server is ‘johndoe’. And TA will let you know the password of your account. \n",
        "<br></br>\n",
        "Let’s connect MySQL server using MySQL Workbench you installed on laptop in the prelab. Please follow the steps below. \n",
        "\n",
        "1.\tRun *‘MySQL Workbench’* on laptop. \n",
        "2.\tClick ‘+’ symbol next to *‘MySQL Connections’*. \n",
        "\n",
        "  a. *‘Setup New Connection’* window pops up. \n",
        "\n",
        "    ![picture](https://github.com/hewp84/tinyml/blob/main/img/L7_Image1.png?raw=true)\n",
        "\n",
        "3.\tPut information on *‘Setup New Connection’* below and then click ‘OK’. \n",
        "\n",
        "  a.\t‘Connection Name’: ME597 \n",
        "\n",
        "  b.\t‘Hostname’: me597server1.ecn.purdue.edu \n",
        "\n",
        "  c.\t‘Port’: 3306 \n",
        "\n",
        "  d.\t‘Username’: firstnamelastname \n",
        "\n",
        "  ![picture](https://github.com/hewp84/tinyml/blob/main/img/L7_Image2.png?raw=true)\n",
        "  \n",
        "4.\tClick ‘ME597’ connection on ‘MySQL Workbench’. \n",
        "5.\tPut your password on *‘Connection to MySQL Server’* window. \n",
        "6.\tClick *‘Save password in vault’* check box. \n",
        "7.\tClick *‘OK’* \n",
        "\n",
        "![picture](https://github.com/hewp84/tinyml/blob/main/img/L7_Image3.png?raw=true)\n",
        "\n",
        "Now, you made a connection to the MySQL server. The next is to create a table. Follow the steps below. \n",
        "\n",
        "1.\tClick ‘Schemas’ tab on the left middle side. \n",
        "\n",
        "  a.\tSchema in a SQL database stands for a list of logical structures of data. \n",
        "\n",
        "  b.\tIn the ‘Navigator’ section, you will see ‘ME597Spring22’ database. \n",
        "2.\tClick dropdown button (▼) on the left of *‘ME497Spring22’* database on *‘Navigator’* section. \n",
        "3.\tRight click on *‘Tables’* under *‘ME597Spring22’* database. \n",
        "4.\tClick *‘Create Tables…’* on the right click menu. \n",
        "\n",
        "  a.\tYou will see a new tab for creating a table. \n",
        "\n",
        "  ![picture](https://github.com/hewp84/tinyml/blob/main/img/L7_Image4.png?raw=true)\n",
        "\t \t \n",
        "5.\tMake table name as ‘firstnamelastname_lab7’. \n",
        "\n",
        "  a.\tE.g., ‘Table Name’: johndoe_lab7 \n",
        "\n",
        "6. Create columns as a table below. \n",
        "\n",
        "  <table width=\"471\">\n",
        "<tbody>\n",
        "<tr>\n",
        "<td width=\"157\">\n",
        "<p>Column Name</p>\n",
        "</td>\n",
        "<td width=\"157\">\n",
        "<p>Datatype</p>\n",
        "</td>\n",
        "<td width=\"157\">\n",
        "<p>Option (Column flag)</p>\n",
        "</td>\n",
        "</tr>\n",
        "<tr>\n",
        "<td width=\"157\">\n",
        "<p>id</p>\n",
        "</td>\n",
        "<td width=\"157\">\n",
        "<p>INT</p>\n",
        "</td>\n",
        "<td width=\"157\">\n",
        "<p>PK, NN</p>\n",
        "</td>\n",
        "</tr>\n",
        "<tr>\n",
        "<td width=\"157\">\n",
        "<p>timestamp</p>\n",
        "</td>\n",
        "<td width=\"157\">\n",
        "<p>TIMESTAMP(1)</p>\n",
        "</td>\n",
        "<td width=\"157\">\n",
        "<p>&nbsp;</p>\n",
        "</td>\n",
        "</tr>\n",
        "<tr>\n",
        "<td width=\"157\">\n",
        "<p>sensor</p>\n",
        "</td>\n",
        "<td width=\"157\">\n",
        "<p>VARCHAR(45)</p>\n",
        "</td>\n",
        "<td width=\"157\">\n",
        "<p>NN</p>\n",
        "</td>\n",
        "</tr>\n",
        "<tr>\n",
        "<td width=\"157\">\n",
        "<p>measurement</p>\n",
        "</td>\n",
        "<td width=\"157\">\n",
        "<p>VARCHAR(45)</p>\n",
        "</td>\n",
        "<td width=\"157\">\n",
        "<p>NN</p>\n",
        "</td>\n",
        "</tr>\n",
        "<tr>\n",
        "<td width=\"157\">\n",
        "<p>Value</p>\n",
        "</td>\n",
        "<td width=\"157\">\n",
        "<p>TINYTEXT</p>\n",
        "</td>\n",
        "<td width=\"157\">\n",
        "<p>NN</p>\n",
        "</td>\n",
        "</tr>\n",
        "</tbody>\n",
        "</table>\n",
        "\n",
        "  a. Brief descriptions of column flags are below. \n",
        "    * PK – Primary Key: It can be used to make the column as a primary key. \n",
        "    * NN – NOT NULL: It is used to enforce the column that it will not insert a NULL value.\n",
        "    * BIN – Binary: It is used to store data as a binary string. \n",
        "    * UN – Unsigned: It is used to store an only positive value started from 0. \n",
        "    * UQ – Unique: It can be used to enforce the column to insert only unique value for a specific column. \n",
        "    * ZF – Zero Filled: It makes stored values have specific size by filling 0. \n",
        "    * G – Generated column\n",
        "    * AI – Auto Increment \n",
        "\n",
        "7.\tClick *‘Apply’*. \n",
        "\n",
        "  a. ‘Apply SQL Script to Database’ window pops up. \n",
        "  \n",
        "    ![picture](https://github.com/hewp84/tinyml/blob/main/img/L7_Image5.png?raw=true)\n",
        "\n",
        "8.\tClick *‘Apply’* on *‘Apply SQL Script to Database’* window. \n",
        "9.\tClick *‘Finish’* on *‘Apply SQL Script to Database’* window. \n",
        "  \n",
        "  ![picture](https://github.com/hewp84/tinyml/blob/main/img/L7_Image6.png?raw=true)\n",
        "\n",
        "10.\tIf you click the dropdown button (▼) next to ‘Tables’ on ‘Navigator’ section, you will see the created table as below.\n",
        "\n",
        "  ![picture](https://github.com/hewp84/tinyml/blob/main/img/L7_Image7.png?raw=true)\n",
        "\n",
        "\n",
        "You are all set to store data. To see your table, the easiest way on ‘MySQL Workbench’ is that right click your table on ‘Navigator’ and then click ‘Select Rows – Limit 1000’ as Figure 1 (left). Because you do not have any data in the table yet, all column data are NULL as Figure 1 (right). And you can see the executed SQL query on the upper side of your table tab as figure 1 (right). \n",
        "\n",
        "![picture](https://github.com/hewp84/tinyml/blob/main/img/L7_Figure1.png?raw=true)\n",
        "\n",
        "*Figure 1 Select rows of created table (left) and executed SELECT statement to check data*"
      ],
      "metadata": {
        "id": "fEDCz7CjnhwS"
      }
    },
    {
      "cell_type": "markdown",
      "source": [
        "### Task 1.1\n",
        "\n",
        "After creating and checking your table, capture the result as Figure 1 (right) and attach it to the report. \n",
        "\n",
        "---\n",
        "\n",
        "Place your screenshot here.\n",
        "\n",
        "---\n"
      ],
      "metadata": {
        "id": "PsP4z6Hrnv1I"
      }
    },
    {
      "cell_type": "markdown",
      "source": [
        "## 1.3 SQL query practice\n",
        "\n",
        "By executing SQL query on ‘MySQL Workbench’, you can manipulate the database. In this part, we will practice only INSERT and SELECT statements to store and see data on the table before we move to Python programming. On the ‘Query’ tab, execute INSERT statement example below. To run the SQL query, click \n",
        "‘Execute’ icon (lightning bolt) on the menu bar as Figure 2. Please note that you need change the placeholder table name in the sample statement. \n",
        "\n",
        "---\n",
        "\n",
        "**SQL - INSERT Statement example**\n",
        "\n",
        "```\n",
        "INSERT INTO ME597Fall22.yourname_lab7 (sensor, measurement, value)\n",
        "VALUES('sensor1','acceleration1','0');\n",
        "INSERT INTO ME597Fall22.yourname_lab7 (sensor, measurement, value)\n",
        "VALUES('sensor1','acceleration2','3');\n",
        "INSERT INTO ME597Fall22.yourname_lab7 (sensor, measurement, value)\n",
        "VALUES('sensor2','temperature','25');\n",
        "\n",
        "```\n",
        "\n",
        "---\n",
        "\n",
        "![picture](https://github.com/hewp84/tinyml/blob/main/img/L7_Figure2.png?raw=true)\n",
        "\n",
        "*Figure 2 INSERT statement example*\n",
        "\n",
        "If you check the table, you see the inserted data as Figure 3. As you see, there is no data in ‘timestamp’ column because we did not include ‘timestamp’ information in the INSERT statement example. \n",
        "\n",
        "![picture](https://github.com/hewp84/tinyml/blob/main/img/L7_Figure3.png?raw=true)\n",
        "\n",
        "*Figure 3 Table after executing INSERT statement example*\n",
        "\n",
        "Now, let’s try SELECT statement example. The SELECT statement example below is to select only ‘measurement’ and ‘value’ data from ‘sensor1’. The result is shown in Figure 4. Please note that response of SELECT statement is a result grid and ‘*’ after SELECT statement means ‘ALL’.\n",
        "\n",
        "---\n",
        "\n",
        "**SQL - INSERT Statement example**\n",
        "\n",
        "```\n",
        "SELECT measurement, value from ME597Spring22.yourname_lab7\n",
        "WHERE sensor = 'sensor1';\n",
        "\n",
        "```\n",
        "\n",
        "---\n",
        "\n",
        "![picture](https://github.com/hewp84/tinyml/blob/main/img/L7_Figure4.png?raw=true)\n",
        "\n",
        "*Figure 4 Result after executing SELECT statement example*\n"
      ],
      "metadata": {
        "id": "0YGotBKFn7xG"
      }
    },
    {
      "cell_type": "markdown",
      "source": [
        "### Task 1.2\n",
        "\n",
        "Create a SELECT statement to get ‘timestamp’, ‘measurement’, and ‘value’ data of only ‘sensor’ is ‘sensor2’. Capture the result grid output and attach your SELECT statement and the result as Figure 4 to the report. \n",
        "\n",
        "---\n",
        "\n",
        "Place your screenshot here.\n",
        "\n",
        "---"
      ],
      "metadata": {
        "id": "JWedWrAxoAb0"
      }
    },
    {
      "cell_type": "code",
      "source": [
        "# Place your SELECT statement here.\n",
        "#\n",
        "\n",
        "\n",
        "#"
      ],
      "metadata": {
        "id": "AHQMAvGugAE8"
      },
      "execution_count": null,
      "outputs": []
    },
    {
      "cell_type": "markdown",
      "source": [
        "So far, we performed basic use of MySQL. Let’s move to Python programming on Raspberry Pi to collect data.  "
      ],
      "metadata": {
        "id": "jTmbRsHkoDJX"
      }
    },
    {
      "cell_type": "markdown",
      "source": [
        "Please continue to [Lab 7.2 here](L7_Colab2.ipynb).\n"
      ],
      "metadata": {
        "id": "5TUXa66NOh5p"
      }
    }
  ]
}