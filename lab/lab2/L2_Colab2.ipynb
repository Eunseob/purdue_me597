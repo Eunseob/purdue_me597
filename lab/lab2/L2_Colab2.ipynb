{
  "nbformat": 4,
  "nbformat_minor": 0,
  "metadata": {
    "colab": {
      "name": "L3_Colab2",
      "provenance": []
    },
    "kernelspec": {
      "name": "python3",
      "display_name": "Python 3"
    },
    "language_info": {
      "name": "python"
    }
  },
  "cells": [
    {
      "cell_type": "markdown",
      "source": [
        "# Lab 3.2 Reading sensors, collecting data, and saving as a .CSV file for a fan"
      ],
      "metadata": {
        "id": "MSWuiicmrVnK"
      }
    },
    {
      "cell_type": "markdown",
      "source": [
        "## 2.1 Applying to an axial flow fan vibration measurement\n",
        "\n",
        "### Measuring vibration in normal condition\n",
        "\n",
        "On each table, we will see an axial flow fan as Figure 10. For safety reasons, the base part is fixed on the table using tapes. Do not remove the tapes because it can move due to aerodynamic force when running. Flip ADXL345 sensor and then peel off the film from the bottom of the breadboard as Figure 11 (left). However, do not throw away the film because you need to reuse the file to protect adhesive so that the double-sided tape remains adhesion for next time use. And then attach your sensor on top of the axial flow fan as Figure 11 (right). Total 3 sensors can be attached to the fan. Please do this together with other table members.\n",
        "\n",
        "![picture](https://github.com/hewp84/tinyml/blob/main/img/L3_Figure10.jpg?raw=true)\n",
        "\n",
        "*Figure 10 Configuration of axial flow fan*\n",
        "\n",
        "![picture](https://github.com/hewp84/tinyml/blob/main/img/L3_Figure11.png?raw=true)\n",
        "\n",
        "*Figure 11 Peeling off adhesive protection film (left) and attaching ADXL345 to the fan (right)*\n",
        "\n",
        "After deploying the sensor, run the axial flow fan. While the fan is running, collect and save acceleration data by using ‘lab3_sample4.py’. It will take around 1 second.\n"
      ],
      "metadata": {
        "id": "xtWmdnNVIljS"
      }
    },
    {
      "cell_type": "markdown",
      "source": [
        "\n",
        "\n",
        "### Task 2.1\n",
        "\n",
        "Run code 'lab3_sample1.py' (the same you ran in L3.1) in Raspberry Pi  to measure the readings with the fan in normal condition and then capture a screenshot and paste it in the below section\n",
        "\n",
        "\n",
        "---\n",
        "**Python - Python3 (lab3_sample1.py)**\n",
        "\n",
        "```\n",
        "import time \n",
        "import board \n",
        "import adafruit_adxl34x \n",
        "import datetime \n",
        "import busio\n",
        " \n",
        "# i2c variable defines I2C interfaces and GPIO pins using busio and board modules \n",
        "i2c = busio.I2C(board.SCL, board.SDA) \n",
        " \n",
        "# acc object is instantiation using i2c of Adafruit ADXL34X library\n",
        "acc = adafruit_adxl34x.ADXL345(i2c) \n",
        " \n",
        "while True: # To halt program, hit Ctrl + c or click Stop button\n",
        "  now = datetime.datetime.now()\n",
        "  x_acc, y_acc, z_acc = acc.acceleration \n",
        "  print(\"{}: x-axis={:.4f}m/s^2, y-axis={:.4f}m/s^2, z-axis={:.4f}m/s^2\".format(now, x_acc, y_acc, z_acc))     \n",
        "  time.sleep(1) \n",
        "```\n",
        "\n",
        "---\n",
        "\n"
      ],
      "metadata": {
        "id": "Hqgn6T4lHijP"
      }
    },
    {
      "cell_type": "markdown",
      "source": [
        "### Task 2.2\n",
        "\n",
        "Using the program 'lab3_sample3.py' (the same you ran in L3.1) in Raspberry Pi, modify the following parameters:\n",
        "\n",
        "1. acc.data_rate --> 0b1111\n",
        "2. Output file suffix from 'lab3_fan_off.csv' to 'lab3_fan_normal.csv'\n",
        "\n",
        "\n",
        "\n"
      ],
      "metadata": {
        "id": "EP8kb_u1ISZp"
      }
    },
    {
      "cell_type": "markdown",
      "source": [
        "## 2.2 Measuring vibration in anomalous condition \n",
        "\n",
        "Let’s make an anomalous condition by adding mass to the blade. \n",
        "\n",
        "1. There will be an adhesive putty on the base of the fan. Press and rub the putty adhesive to make it a ball shape Figure 12 (right) so that the adhesive putty can be soft enough to attach to the blade.\n",
        "\n",
        "![picture](https://github.com/hewp84/tinyml/blob/main/img/L3_Figure12.png?raw=true)\n",
        "\n",
        "*Figure 12 Adhesive putty: initial shape (left) and ball-shaped after rubbing to softening (right)*\n",
        "\n",
        "2. Disassemble the front part (wire guard) axial flow fan. Unscrew the four front nuts and then remove the wire guard as Figure 13. You can easily unscrew the nut by hand. And then disassemble the front part (wire guard) axial flow fan. Unscrew the four front nuts and then remove the wire guard as Figure 13. You can easily unscrew the nut by hand. \n",
        "\n",
        "3. Firmly attach the adhesive putty to one of the blades of the fan. When you attach the adhesive putty, please press holding both the adhesive putty and a blade together firmly for a few seconds as Figure 14 (left). And then assemble the wire guard and the front nuts as Figure 14 (right). \n",
        "\n",
        "4. Run the axial flow fan. Can you feel increased vibration? While the fan is running in the abnormal condition, collect and save acceleration data by using ‘lab3_sample4.py’. \n",
        "\n",
        "5. After finishing all measurements, please remove the attached adhesive putty. Keep the sensor assembly and jumper wires and return these at the end of the semester. It is strongly recommended to play with Raspberry Pi and the ADXL345 sensor. We will develop a machine learning model to predict running conditions (normal vs. abnormal) in Lab 9 and Lab 10.\n",
        "\n",
        "![picture](https://github.com/hewp84/tinyml/blob/main/img/L3_Figure13.png?raw=true)\n",
        "\n",
        "*Figure 13 Disassembling axial flow fan*\n",
        "\n",
        "![picture](https://github.com/hewp84/tinyml/blob/main/img/L3_Figure14.png?raw=true)\n",
        "\n",
        "*Figure 14 Attaching adhesive putty (left) and assembling again (right)*"
      ],
      "metadata": {
        "id": "c6KR2zP1ItJw"
      }
    },
    {
      "cell_type": "markdown",
      "source": [
        "### Task 2.3\n",
        "\n",
        "1. Read and copy the data for the fan anomalous condition using code 'lab3_sample3.py'. Be sure to modify the acc data rate to 0b1111 and output file name suffix parameters with a proper label.\n",
        "2. Save a copy of the csv file\n",
        "\n",
        "\n",
        "\n"
      ],
      "metadata": {
        "id": "QRO7MqwyQwjC"
      }
    },
    {
      "cell_type": "markdown",
      "source": [
        "---\n",
        "\n",
        "Place your screenshot in here.\n",
        "\n",
        "---"
      ],
      "metadata": {
        "id": "qxRXMkDBd439"
      }
    },
    {
      "cell_type": "markdown",
      "source": [
        "Please continue to [Lab 3.3 here](L3_Colab3.ipynb).\n"
      ],
      "metadata": {
        "id": "NEw44Y9lKImQ"
      }
    }
  ]
}